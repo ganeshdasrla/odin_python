{
  "nbformat": 4,
  "nbformat_minor": 0,
  "metadata": {
    "colab": {
      "provenance": [],
      "authorship_tag": "ABX9TyMqiYk9VDV2KHrWn1kn9x3L",
      "include_colab_link": true
    },
    "kernelspec": {
      "name": "python3",
      "display_name": "Python 3"
    },
    "language_info": {
      "name": "python"
    }
  },
  "cells": [
    {
      "cell_type": "markdown",
      "metadata": {
        "id": "view-in-github",
        "colab_type": "text"
      },
      "source": [
        "<a href=\"https://colab.research.google.com/github/ganeshdasrla/odin_python/blob/main/applied_statistics_with_eda_w1.ipynb\" target=\"_parent\"><img src=\"https://colab.research.google.com/assets/colab-badge.svg\" alt=\"Open In Colab\"/></a>"
      ]
    },
    {
      "cell_type": "code",
      "execution_count": 5,
      "metadata": {
        "colab": {
          "base_uri": "https://localhost:8080/"
        },
        "id": "h9t3ODk6phVj",
        "outputId": "f2a12a5c-238c-4104-e9e8-4f6c96cb43c2"
      },
      "outputs": [
        {
          "output_type": "stream",
          "name": "stdout",
          "text": [
            "debit card group has higher mean\n"
          ]
        }
      ],
      "source": [
        "import pandas as pd\n",
        "import numpy as np\n",
        "\n",
        "cc = np.array([45, 56, 51, 62, 49])\n",
        "no_cc = np.array([39, 68, 55, 59, 42])\n",
        "\n",
        "cc_mean = pd.DataFrame(cc).mean().iloc[0]\n",
        "dc_mean = pd.DataFrame(no_cc).mean().iloc[0]\n",
        "\n",
        "if cc_mean > dc_mean:\n",
        "  print(\"credit card group has higher mean\")\n",
        "else:\n",
        "  print(\"debit card group has higher mean\")"
      ]
    },
    {
      "cell_type": "code",
      "source": [
        "import pandas as pd\n",
        "import numpy as np\n",
        "\n",
        "credit_df = pd.DataFrame(np.array([45, 56, 51, 62, 49]))\n",
        "no_credit_df = pd.DataFrame(np.array([39, 68, 55, 59, 42]))\n",
        "\n",
        "cc_median = credit_df.median()[0]\n",
        "print(cc_median)\n",
        "\n",
        "ncc_median = no_credit_df.median()[0]\n",
        "print(ncc_median)\n",
        "\n",
        "if cc_median > ncc_median:\n",
        "  print(\"credit card group has higher median\")\n",
        "else:\n",
        "  print(\"debit card group has higher median\")"
      ],
      "metadata": {
        "colab": {
          "base_uri": "https://localhost:8080/"
        },
        "id": "mqsqbIZls23E",
        "outputId": "79dd5ed2-82b4-490f-ccd3-37ebb6c54a03"
      },
      "execution_count": 8,
      "outputs": [
        {
          "output_type": "stream",
          "name": "stdout",
          "text": [
            "51.0\n",
            "55.0\n",
            "debit card group has higher median\n"
          ]
        }
      ]
    },
    {
      "cell_type": "code",
      "source": [
        "import pandas as pd\n",
        "import numpy as np\n",
        "\n",
        "credit_df = pd.DataFrame(np.array([45, 56, 51, 62, 49]))\n",
        "no_credit_df = pd.DataFrame(np.array([39, 68, 55, 59, 42]))\n",
        "\n",
        "cc_std = credit_df.std()[0]\n",
        "print(cc_std)\n",
        "\n",
        "ncc_std = no_credit_df.std()[0]\n",
        "print(ncc_std)\n",
        "\n",
        "if cc_std < ncc_std:\n",
        "  print(\"credit card group is more homogenous\")\n",
        "else:\n",
        "  print(\"debit card group is more homogenous\")"
      ],
      "metadata": {
        "colab": {
          "base_uri": "https://localhost:8080/"
        },
        "id": "tF6ULNZswOKT",
        "outputId": "e20069d0-0c1a-4968-f166-a8b2559076a7"
      },
      "execution_count": 10,
      "outputs": [
        {
          "output_type": "stream",
          "name": "stdout",
          "text": [
            "6.58027355054484\n",
            "12.054044964243332\n",
            "credit card group is more homogenous\n"
          ]
        }
      ]
    },
    {
      "cell_type": "code",
      "source": [
        "import pandas as pd\n",
        "import numpy as np\n",
        "\n",
        "credit_df = pd.DataFrame(np.array([45, 56, 51, 62, 49]))\n",
        "cc_var = credit_df.var()[0]\n",
        "print(cc_var)"
      ],
      "metadata": {
        "colab": {
          "base_uri": "https://localhost:8080/"
        },
        "id": "1hwpjYLkxM3b",
        "outputId": "0ab187b0-5620-4328-9589-19fe2a999161"
      },
      "execution_count": 13,
      "outputs": [
        {
          "output_type": "stream",
          "name": "stdout",
          "text": [
            "43.3\n"
          ]
        }
      ]
    },
    {
      "cell_type": "code",
      "source": [
        "import pandas as pd\n",
        "import numpy as np\n",
        "\n",
        "no_credit_df = pd.DataFrame(np.array([39, 68, 55, 59, 42]))\n",
        "no_cc_std = no_credit_df.std()[0]\n",
        "print(no_cc_std)"
      ],
      "metadata": {
        "colab": {
          "base_uri": "https://localhost:8080/"
        },
        "id": "GRIfw29_xpIv",
        "outputId": "af21c7d4-7307-4e51-a721-71db5660acd1"
      },
      "execution_count": 14,
      "outputs": [
        {
          "output_type": "stream",
          "name": "stdout",
          "text": [
            "12.054044964243332\n"
          ]
        }
      ]
    }
  ]
}