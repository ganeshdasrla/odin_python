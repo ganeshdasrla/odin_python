{
  "nbformat": 4,
  "nbformat_minor": 0,
  "metadata": {
    "colab": {
      "provenance": [],
      "authorship_tag": "ABX9TyMe3C8KSF/4Z0MGrqNKQlnF",
      "include_colab_link": true
    },
    "kernelspec": {
      "name": "python3",
      "display_name": "Python 3"
    },
    "language_info": {
      "name": "python"
    }
  },
  "cells": [
    {
      "cell_type": "markdown",
      "metadata": {
        "id": "view-in-github",
        "colab_type": "text"
      },
      "source": [
        "<a href=\"https://colab.research.google.com/github/ganeshdasrla/odin_python/blob/main/ML_Class_on_June_8th_2024.ipynb\" target=\"_parent\"><img src=\"https://colab.research.google.com/assets/colab-badge.svg\" alt=\"Open In Colab\"/></a>"
      ]
    },
    {
      "cell_type": "code",
      "execution_count": 29,
      "metadata": {
        "id": "vLEEFTrgJ6RX"
      },
      "outputs": [],
      "source": [
        "%%capture\n",
        "!pip install openai"
      ]
    },
    {
      "cell_type": "code",
      "source": [
        "# write a function to add 2 numbers\n",
        "def add(x, y):\n",
        "  return x + y"
      ],
      "metadata": {
        "id": "yF_m5Qw2MFMC"
      },
      "execution_count": 30,
      "outputs": []
    },
    {
      "cell_type": "code",
      "source": [
        "from google.colab import userdata\n",
        "OPENAI_API_KEY1 = userdata.get('OPENAI_API_KEY')"
      ],
      "metadata": {
        "id": "YuB1-CNfNKxY"
      },
      "execution_count": 31,
      "outputs": []
    },
    {
      "cell_type": "code",
      "source": [
        "from openai import OpenAI\n",
        "client = OpenAI(api_key=OPENAI_API_KEY1)\n",
        "\n",
        "completion = client.chat.completions.create(\n",
        "  model=\"gpt-3.5-turbo\",\n",
        "  messages=[\n",
        "    {\"role\": \"system\", \"content\": \"You are a poetic assistant, skilled in explaining complex programming concepts with creative flair.\"},\n",
        "    {\"role\": \"user\", \"content\": \"Compose a poem that explains the concept of recursion in programming.\"}\n",
        "  ]\n",
        ")\n",
        "\n",
        "print(completion.choices[0].message)"
      ],
      "metadata": {
        "colab": {
          "base_uri": "https://localhost:8080/",
          "height": 373
        },
        "id": "kTdDAlV-MoBK",
        "outputId": "3e520a67-a65b-41c6-d2df-4fbad2a9f6f2"
      },
      "execution_count": 32,
      "outputs": [
        {
          "output_type": "error",
          "ename": "RateLimitError",
          "evalue": "Error code: 429 - {'error': {'message': 'You exceeded your current quota, please check your plan and billing details. For more information on this error, read the docs: https://platform.openai.com/docs/guides/error-codes/api-errors.', 'type': 'insufficient_quota', 'param': None, 'code': 'insufficient_quota'}}",
          "traceback": [
            "\u001b[0;31m---------------------------------------------------------------------------\u001b[0m",
            "\u001b[0;31mRateLimitError\u001b[0m                            Traceback (most recent call last)",
            "\u001b[0;32m<ipython-input-32-6982d8414e07>\u001b[0m in \u001b[0;36m<cell line: 4>\u001b[0;34m()\u001b[0m\n\u001b[1;32m      2\u001b[0m \u001b[0mclient\u001b[0m \u001b[0;34m=\u001b[0m \u001b[0mOpenAI\u001b[0m\u001b[0;34m(\u001b[0m\u001b[0mapi_key\u001b[0m\u001b[0;34m=\u001b[0m\u001b[0mOPENAI_API_KEY1\u001b[0m\u001b[0;34m)\u001b[0m\u001b[0;34m\u001b[0m\u001b[0;34m\u001b[0m\u001b[0m\n\u001b[1;32m      3\u001b[0m \u001b[0;34m\u001b[0m\u001b[0m\n\u001b[0;32m----> 4\u001b[0;31m completion = client.chat.completions.create(\n\u001b[0m\u001b[1;32m      5\u001b[0m   \u001b[0mmodel\u001b[0m\u001b[0;34m=\u001b[0m\u001b[0;34m\"gpt-3.5-turbo\"\u001b[0m\u001b[0;34m,\u001b[0m\u001b[0;34m\u001b[0m\u001b[0;34m\u001b[0m\u001b[0m\n\u001b[1;32m      6\u001b[0m   messages=[\n",
            "\u001b[0;32m/usr/local/lib/python3.10/dist-packages/openai/_utils/_utils.py\u001b[0m in \u001b[0;36mwrapper\u001b[0;34m(*args, **kwargs)\u001b[0m\n\u001b[1;32m    275\u001b[0m                         \u001b[0mmsg\u001b[0m \u001b[0;34m=\u001b[0m \u001b[0;34mf\"Missing required argument: {quote(missing[0])}\"\u001b[0m\u001b[0;34m\u001b[0m\u001b[0;34m\u001b[0m\u001b[0m\n\u001b[1;32m    276\u001b[0m                 \u001b[0;32mraise\u001b[0m \u001b[0mTypeError\u001b[0m\u001b[0;34m(\u001b[0m\u001b[0mmsg\u001b[0m\u001b[0;34m)\u001b[0m\u001b[0;34m\u001b[0m\u001b[0;34m\u001b[0m\u001b[0m\n\u001b[0;32m--> 277\u001b[0;31m             \u001b[0;32mreturn\u001b[0m \u001b[0mfunc\u001b[0m\u001b[0;34m(\u001b[0m\u001b[0;34m*\u001b[0m\u001b[0margs\u001b[0m\u001b[0;34m,\u001b[0m \u001b[0;34m**\u001b[0m\u001b[0mkwargs\u001b[0m\u001b[0;34m)\u001b[0m\u001b[0;34m\u001b[0m\u001b[0;34m\u001b[0m\u001b[0m\n\u001b[0m\u001b[1;32m    278\u001b[0m \u001b[0;34m\u001b[0m\u001b[0m\n\u001b[1;32m    279\u001b[0m         \u001b[0;32mreturn\u001b[0m \u001b[0mwrapper\u001b[0m  \u001b[0;31m# type: ignore\u001b[0m\u001b[0;34m\u001b[0m\u001b[0;34m\u001b[0m\u001b[0m\n",
            "\u001b[0;32m/usr/local/lib/python3.10/dist-packages/openai/resources/chat/completions.py\u001b[0m in \u001b[0;36mcreate\u001b[0;34m(self, messages, model, frequency_penalty, function_call, functions, logit_bias, logprobs, max_tokens, n, parallel_tool_calls, presence_penalty, response_format, seed, stop, stream, stream_options, temperature, tool_choice, tools, top_logprobs, top_p, user, extra_headers, extra_query, extra_body, timeout)\u001b[0m\n\u001b[1;32m    604\u001b[0m         \u001b[0mtimeout\u001b[0m\u001b[0;34m:\u001b[0m \u001b[0mfloat\u001b[0m \u001b[0;34m|\u001b[0m \u001b[0mhttpx\u001b[0m\u001b[0;34m.\u001b[0m\u001b[0mTimeout\u001b[0m \u001b[0;34m|\u001b[0m \u001b[0;32mNone\u001b[0m \u001b[0;34m|\u001b[0m \u001b[0mNotGiven\u001b[0m \u001b[0;34m=\u001b[0m \u001b[0mNOT_GIVEN\u001b[0m\u001b[0;34m,\u001b[0m\u001b[0;34m\u001b[0m\u001b[0;34m\u001b[0m\u001b[0m\n\u001b[1;32m    605\u001b[0m     ) -> ChatCompletion | Stream[ChatCompletionChunk]:\n\u001b[0;32m--> 606\u001b[0;31m         return self._post(\n\u001b[0m\u001b[1;32m    607\u001b[0m             \u001b[0;34m\"/chat/completions\"\u001b[0m\u001b[0;34m,\u001b[0m\u001b[0;34m\u001b[0m\u001b[0;34m\u001b[0m\u001b[0m\n\u001b[1;32m    608\u001b[0m             body=maybe_transform(\n",
            "\u001b[0;32m/usr/local/lib/python3.10/dist-packages/openai/_base_client.py\u001b[0m in \u001b[0;36mpost\u001b[0;34m(self, path, cast_to, body, options, files, stream, stream_cls)\u001b[0m\n\u001b[1;32m   1238\u001b[0m             \u001b[0mmethod\u001b[0m\u001b[0;34m=\u001b[0m\u001b[0;34m\"post\"\u001b[0m\u001b[0;34m,\u001b[0m \u001b[0murl\u001b[0m\u001b[0;34m=\u001b[0m\u001b[0mpath\u001b[0m\u001b[0;34m,\u001b[0m \u001b[0mjson_data\u001b[0m\u001b[0;34m=\u001b[0m\u001b[0mbody\u001b[0m\u001b[0;34m,\u001b[0m \u001b[0mfiles\u001b[0m\u001b[0;34m=\u001b[0m\u001b[0mto_httpx_files\u001b[0m\u001b[0;34m(\u001b[0m\u001b[0mfiles\u001b[0m\u001b[0;34m)\u001b[0m\u001b[0;34m,\u001b[0m \u001b[0;34m**\u001b[0m\u001b[0moptions\u001b[0m\u001b[0;34m\u001b[0m\u001b[0;34m\u001b[0m\u001b[0m\n\u001b[1;32m   1239\u001b[0m         )\n\u001b[0;32m-> 1240\u001b[0;31m         \u001b[0;32mreturn\u001b[0m \u001b[0mcast\u001b[0m\u001b[0;34m(\u001b[0m\u001b[0mResponseT\u001b[0m\u001b[0;34m,\u001b[0m \u001b[0mself\u001b[0m\u001b[0;34m.\u001b[0m\u001b[0mrequest\u001b[0m\u001b[0;34m(\u001b[0m\u001b[0mcast_to\u001b[0m\u001b[0;34m,\u001b[0m \u001b[0mopts\u001b[0m\u001b[0;34m,\u001b[0m \u001b[0mstream\u001b[0m\u001b[0;34m=\u001b[0m\u001b[0mstream\u001b[0m\u001b[0;34m,\u001b[0m \u001b[0mstream_cls\u001b[0m\u001b[0;34m=\u001b[0m\u001b[0mstream_cls\u001b[0m\u001b[0;34m)\u001b[0m\u001b[0;34m)\u001b[0m\u001b[0;34m\u001b[0m\u001b[0;34m\u001b[0m\u001b[0m\n\u001b[0m\u001b[1;32m   1241\u001b[0m \u001b[0;34m\u001b[0m\u001b[0m\n\u001b[1;32m   1242\u001b[0m     def patch(\n",
            "\u001b[0;32m/usr/local/lib/python3.10/dist-packages/openai/_base_client.py\u001b[0m in \u001b[0;36mrequest\u001b[0;34m(self, cast_to, options, remaining_retries, stream, stream_cls)\u001b[0m\n\u001b[1;32m    919\u001b[0m         \u001b[0mstream_cls\u001b[0m\u001b[0;34m:\u001b[0m \u001b[0mtype\u001b[0m\u001b[0;34m[\u001b[0m\u001b[0m_StreamT\u001b[0m\u001b[0;34m]\u001b[0m \u001b[0;34m|\u001b[0m \u001b[0;32mNone\u001b[0m \u001b[0;34m=\u001b[0m \u001b[0;32mNone\u001b[0m\u001b[0;34m,\u001b[0m\u001b[0;34m\u001b[0m\u001b[0;34m\u001b[0m\u001b[0m\n\u001b[1;32m    920\u001b[0m     ) -> ResponseT | _StreamT:\n\u001b[0;32m--> 921\u001b[0;31m         return self._request(\n\u001b[0m\u001b[1;32m    922\u001b[0m             \u001b[0mcast_to\u001b[0m\u001b[0;34m=\u001b[0m\u001b[0mcast_to\u001b[0m\u001b[0;34m,\u001b[0m\u001b[0;34m\u001b[0m\u001b[0;34m\u001b[0m\u001b[0m\n\u001b[1;32m    923\u001b[0m             \u001b[0moptions\u001b[0m\u001b[0;34m=\u001b[0m\u001b[0moptions\u001b[0m\u001b[0;34m,\u001b[0m\u001b[0;34m\u001b[0m\u001b[0;34m\u001b[0m\u001b[0m\n",
            "\u001b[0;32m/usr/local/lib/python3.10/dist-packages/openai/_base_client.py\u001b[0m in \u001b[0;36m_request\u001b[0;34m(self, cast_to, options, remaining_retries, stream, stream_cls)\u001b[0m\n\u001b[1;32m   1003\u001b[0m             \u001b[0;32mif\u001b[0m \u001b[0mretries\u001b[0m \u001b[0;34m>\u001b[0m \u001b[0;36m0\u001b[0m \u001b[0;32mand\u001b[0m \u001b[0mself\u001b[0m\u001b[0;34m.\u001b[0m\u001b[0m_should_retry\u001b[0m\u001b[0;34m(\u001b[0m\u001b[0merr\u001b[0m\u001b[0;34m.\u001b[0m\u001b[0mresponse\u001b[0m\u001b[0;34m)\u001b[0m\u001b[0;34m:\u001b[0m\u001b[0;34m\u001b[0m\u001b[0;34m\u001b[0m\u001b[0m\n\u001b[1;32m   1004\u001b[0m                 \u001b[0merr\u001b[0m\u001b[0;34m.\u001b[0m\u001b[0mresponse\u001b[0m\u001b[0;34m.\u001b[0m\u001b[0mclose\u001b[0m\u001b[0;34m(\u001b[0m\u001b[0;34m)\u001b[0m\u001b[0;34m\u001b[0m\u001b[0;34m\u001b[0m\u001b[0m\n\u001b[0;32m-> 1005\u001b[0;31m                 return self._retry_request(\n\u001b[0m\u001b[1;32m   1006\u001b[0m                     \u001b[0moptions\u001b[0m\u001b[0;34m,\u001b[0m\u001b[0;34m\u001b[0m\u001b[0;34m\u001b[0m\u001b[0m\n\u001b[1;32m   1007\u001b[0m                     \u001b[0mcast_to\u001b[0m\u001b[0;34m,\u001b[0m\u001b[0;34m\u001b[0m\u001b[0;34m\u001b[0m\u001b[0m\n",
            "\u001b[0;32m/usr/local/lib/python3.10/dist-packages/openai/_base_client.py\u001b[0m in \u001b[0;36m_retry_request\u001b[0;34m(self, options, cast_to, remaining_retries, response_headers, stream, stream_cls)\u001b[0m\n\u001b[1;32m   1051\u001b[0m         \u001b[0mtime\u001b[0m\u001b[0;34m.\u001b[0m\u001b[0msleep\u001b[0m\u001b[0;34m(\u001b[0m\u001b[0mtimeout\u001b[0m\u001b[0;34m)\u001b[0m\u001b[0;34m\u001b[0m\u001b[0;34m\u001b[0m\u001b[0m\n\u001b[1;32m   1052\u001b[0m \u001b[0;34m\u001b[0m\u001b[0m\n\u001b[0;32m-> 1053\u001b[0;31m         return self._request(\n\u001b[0m\u001b[1;32m   1054\u001b[0m             \u001b[0moptions\u001b[0m\u001b[0;34m=\u001b[0m\u001b[0moptions\u001b[0m\u001b[0;34m,\u001b[0m\u001b[0;34m\u001b[0m\u001b[0;34m\u001b[0m\u001b[0m\n\u001b[1;32m   1055\u001b[0m             \u001b[0mcast_to\u001b[0m\u001b[0;34m=\u001b[0m\u001b[0mcast_to\u001b[0m\u001b[0;34m,\u001b[0m\u001b[0;34m\u001b[0m\u001b[0;34m\u001b[0m\u001b[0m\n",
            "\u001b[0;32m/usr/local/lib/python3.10/dist-packages/openai/_base_client.py\u001b[0m in \u001b[0;36m_request\u001b[0;34m(self, cast_to, options, remaining_retries, stream, stream_cls)\u001b[0m\n\u001b[1;32m   1003\u001b[0m             \u001b[0;32mif\u001b[0m \u001b[0mretries\u001b[0m \u001b[0;34m>\u001b[0m \u001b[0;36m0\u001b[0m \u001b[0;32mand\u001b[0m \u001b[0mself\u001b[0m\u001b[0;34m.\u001b[0m\u001b[0m_should_retry\u001b[0m\u001b[0;34m(\u001b[0m\u001b[0merr\u001b[0m\u001b[0;34m.\u001b[0m\u001b[0mresponse\u001b[0m\u001b[0;34m)\u001b[0m\u001b[0;34m:\u001b[0m\u001b[0;34m\u001b[0m\u001b[0;34m\u001b[0m\u001b[0m\n\u001b[1;32m   1004\u001b[0m                 \u001b[0merr\u001b[0m\u001b[0;34m.\u001b[0m\u001b[0mresponse\u001b[0m\u001b[0;34m.\u001b[0m\u001b[0mclose\u001b[0m\u001b[0;34m(\u001b[0m\u001b[0;34m)\u001b[0m\u001b[0;34m\u001b[0m\u001b[0;34m\u001b[0m\u001b[0m\n\u001b[0;32m-> 1005\u001b[0;31m                 return self._retry_request(\n\u001b[0m\u001b[1;32m   1006\u001b[0m                     \u001b[0moptions\u001b[0m\u001b[0;34m,\u001b[0m\u001b[0;34m\u001b[0m\u001b[0;34m\u001b[0m\u001b[0m\n\u001b[1;32m   1007\u001b[0m                     \u001b[0mcast_to\u001b[0m\u001b[0;34m,\u001b[0m\u001b[0;34m\u001b[0m\u001b[0;34m\u001b[0m\u001b[0m\n",
            "\u001b[0;32m/usr/local/lib/python3.10/dist-packages/openai/_base_client.py\u001b[0m in \u001b[0;36m_retry_request\u001b[0;34m(self, options, cast_to, remaining_retries, response_headers, stream, stream_cls)\u001b[0m\n\u001b[1;32m   1051\u001b[0m         \u001b[0mtime\u001b[0m\u001b[0;34m.\u001b[0m\u001b[0msleep\u001b[0m\u001b[0;34m(\u001b[0m\u001b[0mtimeout\u001b[0m\u001b[0;34m)\u001b[0m\u001b[0;34m\u001b[0m\u001b[0;34m\u001b[0m\u001b[0m\n\u001b[1;32m   1052\u001b[0m \u001b[0;34m\u001b[0m\u001b[0m\n\u001b[0;32m-> 1053\u001b[0;31m         return self._request(\n\u001b[0m\u001b[1;32m   1054\u001b[0m             \u001b[0moptions\u001b[0m\u001b[0;34m=\u001b[0m\u001b[0moptions\u001b[0m\u001b[0;34m,\u001b[0m\u001b[0;34m\u001b[0m\u001b[0;34m\u001b[0m\u001b[0m\n\u001b[1;32m   1055\u001b[0m             \u001b[0mcast_to\u001b[0m\u001b[0;34m=\u001b[0m\u001b[0mcast_to\u001b[0m\u001b[0;34m,\u001b[0m\u001b[0;34m\u001b[0m\u001b[0;34m\u001b[0m\u001b[0m\n",
            "\u001b[0;32m/usr/local/lib/python3.10/dist-packages/openai/_base_client.py\u001b[0m in \u001b[0;36m_request\u001b[0;34m(self, cast_to, options, remaining_retries, stream, stream_cls)\u001b[0m\n\u001b[1;32m   1018\u001b[0m \u001b[0;34m\u001b[0m\u001b[0m\n\u001b[1;32m   1019\u001b[0m             \u001b[0mlog\u001b[0m\u001b[0;34m.\u001b[0m\u001b[0mdebug\u001b[0m\u001b[0;34m(\u001b[0m\u001b[0;34m\"Re-raising status error\"\u001b[0m\u001b[0;34m)\u001b[0m\u001b[0;34m\u001b[0m\u001b[0;34m\u001b[0m\u001b[0m\n\u001b[0;32m-> 1020\u001b[0;31m             \u001b[0;32mraise\u001b[0m \u001b[0mself\u001b[0m\u001b[0;34m.\u001b[0m\u001b[0m_make_status_error_from_response\u001b[0m\u001b[0;34m(\u001b[0m\u001b[0merr\u001b[0m\u001b[0;34m.\u001b[0m\u001b[0mresponse\u001b[0m\u001b[0;34m)\u001b[0m \u001b[0;32mfrom\u001b[0m \u001b[0;32mNone\u001b[0m\u001b[0;34m\u001b[0m\u001b[0;34m\u001b[0m\u001b[0m\n\u001b[0m\u001b[1;32m   1021\u001b[0m \u001b[0;34m\u001b[0m\u001b[0m\n\u001b[1;32m   1022\u001b[0m         return self._process_response(\n",
            "\u001b[0;31mRateLimitError\u001b[0m: Error code: 429 - {'error': {'message': 'You exceeded your current quota, please check your plan and billing details. For more information on this error, read the docs: https://platform.openai.com/docs/guides/error-codes/api-errors.', 'type': 'insufficient_quota', 'param': None, 'code': 'insufficient_quota'}}"
          ]
        }
      ]
    },
    {
      "cell_type": "code",
      "source": [
        "!pip install -q -U google-generativeai"
      ],
      "metadata": {
        "id": "zjJLoqCmTINt"
      },
      "execution_count": null,
      "outputs": []
    },
    {
      "cell_type": "code",
      "source": [
        "from google.colab import userdata\n",
        "google_key = userdata.get('google_key')"
      ],
      "metadata": {
        "id": "9psCThRYT5WX"
      },
      "execution_count": null,
      "outputs": []
    },
    {
      "cell_type": "code",
      "source": [
        "import google.generativeai as genai\n",
        "\n",
        "genai.configure(api_key=google_key)\n",
        "# The Gemini 1.5 models are versatile and work with both text-only and multimodal prompts\n",
        "model = genai.GenerativeModel('gemini-1.5-flash')"
      ],
      "metadata": {
        "id": "vQfLpePUT2_R"
      },
      "execution_count": null,
      "outputs": []
    },
    {
      "cell_type": "code",
      "source": [
        "response = model.generate_content(\"Write a story about a magic backpack.\")\n",
        "print(response.text)"
      ],
      "metadata": {
        "colab": {
          "base_uri": "https://localhost:8080/",
          "height": 297
        },
        "id": "zV6fynt4UDBm",
        "outputId": "58da979b-ba45-42b2-bd0e-d0ba0b0dadaa"
      },
      "execution_count": 34,
      "outputs": [
        {
          "output_type": "error",
          "ename": "ValueError",
          "evalue": "Invalid operation: The `response.text` quick accessor requires the response to contain a valid `Part`, but none were returned. Please check the `candidate.safety_ratings` to determine if the response was blocked.",
          "traceback": [
            "\u001b[0;31m---------------------------------------------------------------------------\u001b[0m",
            "\u001b[0;31mValueError\u001b[0m                                Traceback (most recent call last)",
            "\u001b[0;32m<ipython-input-34-5616a0a05477>\u001b[0m in \u001b[0;36m<cell line: 2>\u001b[0;34m()\u001b[0m\n\u001b[1;32m      1\u001b[0m \u001b[0mresponse\u001b[0m \u001b[0;34m=\u001b[0m \u001b[0mmodel\u001b[0m\u001b[0;34m.\u001b[0m\u001b[0mgenerate_content\u001b[0m\u001b[0;34m(\u001b[0m\u001b[0;34m\"Write a story about a magic backpack.\"\u001b[0m\u001b[0;34m)\u001b[0m\u001b[0;34m\u001b[0m\u001b[0;34m\u001b[0m\u001b[0m\n\u001b[0;32m----> 2\u001b[0;31m \u001b[0mprint\u001b[0m\u001b[0;34m(\u001b[0m\u001b[0mresponse\u001b[0m\u001b[0;34m.\u001b[0m\u001b[0mtext\u001b[0m\u001b[0;34m)\u001b[0m\u001b[0;34m\u001b[0m\u001b[0;34m\u001b[0m\u001b[0m\n\u001b[0m",
            "\u001b[0;32m/usr/local/lib/python3.10/dist-packages/google/generativeai/types/generation_types.py\u001b[0m in \u001b[0;36mtext\u001b[0;34m(self)\u001b[0m\n\u001b[1;32m    410\u001b[0m         \u001b[0mparts\u001b[0m \u001b[0;34m=\u001b[0m \u001b[0mself\u001b[0m\u001b[0;34m.\u001b[0m\u001b[0mparts\u001b[0m\u001b[0;34m\u001b[0m\u001b[0;34m\u001b[0m\u001b[0m\n\u001b[1;32m    411\u001b[0m         \u001b[0;32mif\u001b[0m \u001b[0;32mnot\u001b[0m \u001b[0mparts\u001b[0m\u001b[0;34m:\u001b[0m\u001b[0;34m\u001b[0m\u001b[0;34m\u001b[0m\u001b[0m\n\u001b[0;32m--> 412\u001b[0;31m             raise ValueError(\n\u001b[0m\u001b[1;32m    413\u001b[0m                 \u001b[0;34m\"Invalid operation: The `response.text` quick accessor requires the response to contain a valid `Part`, \"\u001b[0m\u001b[0;34m\u001b[0m\u001b[0;34m\u001b[0m\u001b[0m\n\u001b[1;32m    414\u001b[0m                 \u001b[0;34m\"but none were returned. Please check the `candidate.safety_ratings` to determine if the response was blocked.\"\u001b[0m\u001b[0;34m\u001b[0m\u001b[0;34m\u001b[0m\u001b[0m\n",
            "\u001b[0;31mValueError\u001b[0m: Invalid operation: The `response.text` quick accessor requires the response to contain a valid `Part`, but none were returned. Please check the `candidate.safety_ratings` to determine if the response was blocked."
          ]
        }
      ]
    },
    {
      "cell_type": "code",
      "source": [
        "response = model.generate_content(\"Python interview questions and answers\")\n",
        "print(response.text)"
      ],
      "metadata": {
        "colab": {
          "base_uri": "https://localhost:8080/",
          "height": 1000
        },
        "id": "tRrXKBcRUIU8",
        "outputId": "6584ff09-ccf5-448b-e504-e19406554afb"
      },
      "execution_count": 33,
      "outputs": [
        {
          "output_type": "stream",
          "name": "stdout",
          "text": [
            "## Python Interview Questions and Answers\n",
            "\n",
            "Here's a breakdown of Python interview questions categorized by skill level, with detailed answers and explanations:\n",
            "\n",
            "**Beginner Level:**\n",
            "\n",
            "**1. What is Python?**\n",
            "\n",
            "**Answer:** Python is a high-level, interpreted, general-purpose programming language known for its readability and versatility. It's widely used in web development, data science, machine learning, scripting, and more.\n",
            "\n",
            "**2. What are the advantages of using Python?**\n",
            "\n",
            "**Answer:** Python offers many advantages, including:\n",
            "\n",
            "* **Readability:** Its simple syntax makes it easy to learn and read.\n",
            "* **Versatility:** It's suitable for various tasks, from scripting to complex applications.\n",
            "* **Large community:** Extensive libraries and support resources are readily available.\n",
            "* **Beginner-friendly:** Its ease of use makes it a popular choice for beginners.\n",
            "* **Cross-platform compatibility:** It runs on various operating systems.\n",
            "\n",
            "**3. Explain the difference between Python 2 and Python 3.**\n",
            "\n",
            "**Answer:** Python 3 is a significant upgrade that introduced backward-incompatible changes, including:\n",
            "\n",
            "* **Print Function:**  `print` is now a function (`print(\"Hello\")`), not a statement (`print \"Hello\"`).\n",
            "* **Integer Division:** Integer division in Python 3 returns a float (e.g., 5/2 = 2.5), while Python 2 returns an integer (e.g., 5/2 = 2).\n",
            "* **Unicode Support:** Python 3 uses Unicode by default, making it better for handling different languages.\n",
            "\n",
            "**4. How do you write a \"Hello, World!\" program in Python?**\n",
            "\n",
            "**Answer:** \n",
            "```python\n",
            "print(\"Hello, World!\")\n",
            "```\n",
            "\n",
            "**5. What are data types in Python?**\n",
            "\n",
            "**Answer:** Python has several built-in data types:\n",
            "\n",
            "* **Integers (int):** Whole numbers (e.g., 10, -5).\n",
            "* **Floating-point numbers (float):** Numbers with decimal points (e.g., 3.14, -2.5).\n",
            "* **Strings (str):** Sequences of characters enclosed in single or double quotes (e.g., \"Hello\", 'World').\n",
            "* **Booleans (bool):** True or False values.\n",
            "* **Lists (list):** Ordered collections of items enclosed in square brackets (e.g., [1, 2, 3]).\n",
            "* **Tuples (tuple):** Immutable (unchangeable) ordered collections enclosed in parentheses (e.g., (1, 2, 3)).\n",
            "* **Dictionaries (dict):** Key-value pairs enclosed in curly braces (e.g., {\"name\": \"John\", \"age\": 30}).\n",
            "\n",
            "**6. What are operators in Python?**\n",
            "\n",
            "**Answer:** Operators are symbols that perform specific operations on operands. Python supports:\n",
            "\n",
            "* **Arithmetic operators:** + (addition), - (subtraction), * (multiplication), / (division), % (modulo), ** (exponentiation), // (floor division)\n",
            "* **Comparison operators:** == (equal to), != (not equal to), > (greater than), < (less than), >= (greater than or equal to), <= (less than or equal to)\n",
            "* **Logical operators:** and (logical AND), or (logical OR), not (logical NOT)\n",
            "* **Bitwise operators:** & (bitwise AND), | (bitwise OR), ^ (bitwise XOR), ~ (bitwise NOT), << (left shift), >> (right shift)\n",
            "* **Assignment operators:** = (assignment), += (add and assign), -= (subtract and assign), *= (multiply and assign), /= (divide and assign), %= (modulo and assign), **= (exponentiation and assign), //= (floor division and assign)\n",
            "\n",
            "**7. Explain the difference between lists and tuples.**\n",
            "\n",
            "**Answer:** Lists are mutable (changeable) sequences, while tuples are immutable (unchangeable). This means you can modify the elements of a list after it's created, but you cannot change the elements of a tuple. \n",
            "\n",
            "**8. What are functions in Python?**\n",
            "\n",
            "**Answer:** Functions are reusable blocks of code that perform specific tasks. They are defined using the `def` keyword.\n",
            "\n",
            "**9. What is a module in Python?**\n",
            "\n",
            "**Answer:** A module is a file containing Python code. It can be imported into other programs using the `import` statement.\n",
            "\n",
            "**10. What are conditional statements in Python?**\n",
            "\n",
            "**Answer:** Conditional statements like `if`, `elif`, and `else` allow you to execute different blocks of code based on certain conditions.\n",
            "\n",
            "**Intermediate Level:**\n",
            "\n",
            "**1. Explain the concept of object-oriented programming (OOP) in Python.**\n",
            "\n",
            "**Answer:** OOP is a programming paradigm that uses objects (data and methods) to structure code. Key concepts include:\n",
            "\n",
            "* **Classes:** Blueprints for creating objects.\n",
            "* **Objects:** Instances of a class.\n",
            "* **Encapsulation:** Bundling data and methods within an object.\n",
            "* **Inheritance:** Creating new classes that inherit properties and methods from existing classes.\n",
            "* **Polymorphism:** Using the same interface for different types of objects.\n",
            "\n",
            "**2. Describe the different ways to define a function in Python.**\n",
            "\n",
            "**Answer:** You can define functions using:\n",
            "\n",
            "* **Normal functions:** \n",
            "```python\n",
            "def my_function(param1, param2):\n",
            "    # Code inside the function\n",
            "    return result\n",
            "```\n",
            "\n",
            "* **Lambda functions (anonymous functions):**\n",
            "```python\n",
            "my_lambda = lambda x: x * 2\n",
            "```\n",
            "\n",
            "* **Nested functions:** \n",
            "```python\n",
            "def outer_function():\n",
            "    def inner_function():\n",
            "        # Code inside the inner function\n",
            "    inner_function()\n",
            "```\n",
            "\n",
            "**3. What are decorators in Python?**\n",
            "\n",
            "**Answer:** Decorators are functions that modify the behavior of other functions without changing their code directly. They are defined with the `@` symbol followed by the decorator function name.\n",
            "\n",
            "**4. Explain the use of *args and **kwargs in Python.**\n",
            "\n",
            "**Answer:**\n",
            "\n",
            "* ***args:**  Allows a function to accept an arbitrary number of positional arguments. They are collected into a tuple.\n",
            "* ****kwargs:** Allows a function to accept an arbitrary number of keyword arguments. They are collected into a dictionary.\n",
            "\n",
            "**5. What are list comprehensions and how are they used?**\n",
            "\n",
            "**Answer:** List comprehensions provide a concise way to create lists based on existing iterable objects. They are more efficient than using traditional loops. \n",
            "\n",
            "**6. What is a generator in Python?**\n",
            "\n",
            "**Answer:** Generators are functions that use the `yield` keyword to return an iterator. They are memory-efficient because they generate values on demand instead of storing them all at once.\n",
            "\n",
            "**7. How do you handle exceptions in Python?**\n",
            "\n",
            "**Answer:** You can handle exceptions using `try`, `except`, `else`, and `finally` blocks. \n",
            "\n",
            "**8. Explain the difference between `append()` and `extend()` methods for lists.**\n",
            "\n",
            "**Answer:**\n",
            "\n",
            "* **`append()`:** Adds a single element to the end of a list.\n",
            "* **`extend()`:** Extends a list by adding all elements from another iterable object.\n",
            "\n",
            "**9. What is a dictionary in Python?**\n",
            "\n",
            "**Answer:** A dictionary is an unordered collection of key-value pairs. It provides fast access to elements based on their keys.\n",
            "\n",
            "**10. What is the difference between a shallow copy and a deep copy in Python?**\n",
            "\n",
            "**Answer:**\n",
            "\n",
            "* **Shallow copy:** Creates a new object that references the same underlying data as the original object. Changes to the copied object also affect the original.\n",
            "* **Deep copy:** Creates a completely new object, including copies of all nested objects. Changes to the copied object do not affect the original.\n",
            "\n",
            "**Advanced Level:**\n",
            "\n",
            "**1. What are the different ways to create a thread in Python?**\n",
            "\n",
            "**Answer:** You can create threads using:\n",
            "\n",
            "* **The `threading` module:**  This is the most common way to create threads in Python.\n",
            "* **Using the `Thread` class:** This allows you to customize thread behavior.\n",
            "\n",
            "**2. What is the Global Interpreter Lock (GIL) in Python?**\n",
            "\n",
            "**Answer:** The GIL is a mechanism that allows only one thread to execute Python bytecode at a time, even on multi-core CPUs. This limits parallelism for CPU-bound tasks but is not a significant issue for I/O-bound tasks.\n",
            "\n",
            "**3. How do you handle concurrency in Python?**\n",
            "\n",
            "**Answer:** Concurrency can be handled through various methods:\n",
            "\n",
            "* **Threading:** Suitable for I/O-bound tasks.\n",
            "* **Multiprocessing:** Allows true parallelism by creating separate processes.\n",
            "* **Asynchronous programming (asyncio):** Enables concurrent execution of tasks without blocking.\n",
            "\n",
            "**4. Explain the concept of metaclasses in Python.**\n",
            "\n",
            "**Answer:** Metaclasses are classes that create other classes. They allow you to customize the behavior of class creation. \n",
            "\n",
            "**5. Describe the different types of inheritance in Python.**\n",
            "\n",
            "**Answer:** Python supports multiple types of inheritance:\n",
            "\n",
            "* **Single inheritance:** A class inherits from a single parent class.\n",
            "* **Multiple inheritance:** A class inherits from multiple parent classes.\n",
            "* **Multilevel inheritance:** A class inherits from another class that itself inherits from another class.\n",
            "* **Hierarchical inheritance:** Multiple classes inherit from a single parent class.\n",
            "* **Hybrid inheritance:** A combination of multiple inheritance types.\n",
            "\n",
            "**6. What are the advantages and disadvantages of using a virtual environment?**\n",
            "\n",
            "**Answer:**\n",
            "\n",
            "**Advantages:**\n",
            "\n",
            "* **Isolation:** Prevents conflicts between different project dependencies.\n",
            "* **Control:** Allows you to specify exact versions of packages.\n",
            "* **Portability:** Ensures that your project runs consistently on different systems.\n",
            "\n",
            "**Disadvantages:**\n",
            "\n",
            "* **Setup:** Initial setup can be slightly more complex.\n",
            "* **Additional files:** Requires managing additional files for the virtual environment.\n",
            "\n",
            "**7. What is a closure in Python?**\n",
            "\n",
            "**Answer:** A closure is a function that remembers and can access variables from its enclosing scope, even after the outer function has finished executing.\n",
            "\n",
            "**8. Explain the difference between static methods and class methods in Python.**\n",
            "\n",
            "**Answer:**\n",
            "\n",
            "* **Static methods:**  Belong to the class but do not have access to the class's instance or state. They are called using the class name (`ClassName.staticmethod()`) and do not require an instance to be created.\n",
            "* **Class methods:**  Belong to the class and can access its state. They are called using the class name (`ClassName.classmethod()`) and can be used to modify the class's state.\n",
            "\n",
            "**9. What are the different ways to serialize and deserialize objects in Python?**\n",
            "\n",
            "**Answer:**\n",
            "\n",
            "* **`pickle`:** Python's built-in module for serializing and deserializing objects.\n",
            "* **`json`:** Used for serializing and deserializing objects in JSON format.\n",
            "* **`yaml`:**  For working with YAML files.\n",
            "* **`xml`:** For serializing and deserializing objects in XML format.\n",
            "\n",
            "**10. What are some common design patterns used in Python?**\n",
            "\n",
            "**Answer:**  Common Python design patterns include:\n",
            "\n",
            "* **Singleton:** Ensures that only one instance of a class exists.\n",
            "* **Factory:** Creates objects of different types based on a common interface.\n",
            "* **Observer:** Defines a one-to-many dependency between objects.\n",
            "* **Decorator:** Dynamically adds functionality to existing objects.\n",
            "* **Adapter:** Allows objects with incompatible interfaces to work together.\n",
            "\n",
            "**Remember:**  These are just examples. You should also be prepared to discuss specific scenarios, coding challenges, and your experience working with Python in your chosen field.\n"
          ]
        }
      ]
    },
    {
      "cell_type": "code",
      "source": [
        "gemini_image_description=genai.GenerativeModel(model_name=\"gemini-pro-vision\")"
      ],
      "metadata": {
        "id": "aFF4kAM-WgOv"
      },
      "execution_count": 35,
      "outputs": []
    },
    {
      "cell_type": "code",
      "source": [
        "import PIL.Image\n",
        "image=PIL.Image.open(\"/content/destination.jpg.webp\")"
      ],
      "metadata": {
        "colab": {
          "base_uri": "https://localhost:8080/",
          "height": 280
        },
        "id": "GJAtD58QbOQU",
        "outputId": "05c068fc-c487-4735-9f3e-1560ef6024c5"
      },
      "execution_count": 36,
      "outputs": [
        {
          "output_type": "error",
          "ename": "FileNotFoundError",
          "evalue": "[Errno 2] No such file or directory: '/content/destination.jpg.webp'",
          "traceback": [
            "\u001b[0;31m---------------------------------------------------------------------------\u001b[0m",
            "\u001b[0;31mFileNotFoundError\u001b[0m                         Traceback (most recent call last)",
            "\u001b[0;32m<ipython-input-36-a36896a443af>\u001b[0m in \u001b[0;36m<cell line: 2>\u001b[0;34m()\u001b[0m\n\u001b[1;32m      1\u001b[0m \u001b[0;32mimport\u001b[0m \u001b[0mPIL\u001b[0m\u001b[0;34m.\u001b[0m\u001b[0mImage\u001b[0m\u001b[0;34m\u001b[0m\u001b[0;34m\u001b[0m\u001b[0m\n\u001b[0;32m----> 2\u001b[0;31m \u001b[0mimage\u001b[0m\u001b[0;34m=\u001b[0m\u001b[0mPIL\u001b[0m\u001b[0;34m.\u001b[0m\u001b[0mImage\u001b[0m\u001b[0;34m.\u001b[0m\u001b[0mopen\u001b[0m\u001b[0;34m(\u001b[0m\u001b[0;34m\"/content/destination.jpg.webp\"\u001b[0m\u001b[0;34m)\u001b[0m\u001b[0;34m\u001b[0m\u001b[0;34m\u001b[0m\u001b[0m\n\u001b[0m",
            "\u001b[0;32m/usr/local/lib/python3.10/dist-packages/PIL/Image.py\u001b[0m in \u001b[0;36mopen\u001b[0;34m(fp, mode, formats)\u001b[0m\n\u001b[1;32m   3225\u001b[0m \u001b[0;34m\u001b[0m\u001b[0m\n\u001b[1;32m   3226\u001b[0m     \u001b[0;32mif\u001b[0m \u001b[0mfilename\u001b[0m\u001b[0;34m:\u001b[0m\u001b[0;34m\u001b[0m\u001b[0;34m\u001b[0m\u001b[0m\n\u001b[0;32m-> 3227\u001b[0;31m         \u001b[0mfp\u001b[0m \u001b[0;34m=\u001b[0m \u001b[0mbuiltins\u001b[0m\u001b[0;34m.\u001b[0m\u001b[0mopen\u001b[0m\u001b[0;34m(\u001b[0m\u001b[0mfilename\u001b[0m\u001b[0;34m,\u001b[0m \u001b[0;34m\"rb\"\u001b[0m\u001b[0;34m)\u001b[0m\u001b[0;34m\u001b[0m\u001b[0;34m\u001b[0m\u001b[0m\n\u001b[0m\u001b[1;32m   3228\u001b[0m         \u001b[0mexclusive_fp\u001b[0m \u001b[0;34m=\u001b[0m \u001b[0;32mTrue\u001b[0m\u001b[0;34m\u001b[0m\u001b[0;34m\u001b[0m\u001b[0m\n\u001b[1;32m   3229\u001b[0m \u001b[0;34m\u001b[0m\u001b[0m\n",
            "\u001b[0;31mFileNotFoundError\u001b[0m: [Errno 2] No such file or directory: '/content/destination.jpg.webp'"
          ]
        }
      ]
    }
  ]
}