{
  "nbformat": 4,
  "nbformat_minor": 0,
  "metadata": {
    "colab": {
      "provenance": [],
      "authorship_tag": "ABX9TyObTLBLg3sgP4I2rtxC4oBv",
      "include_colab_link": true
    },
    "kernelspec": {
      "name": "python3",
      "display_name": "Python 3"
    },
    "language_info": {
      "name": "python"
    }
  },
  "cells": [
    {
      "cell_type": "markdown",
      "metadata": {
        "id": "view-in-github",
        "colab_type": "text"
      },
      "source": [
        "<a href=\"https://colab.research.google.com/github/ganeshdasrla/odin_python/blob/main/Python_Class_on_April_14th_2024.ipynb\" target=\"_parent\"><img src=\"https://colab.research.google.com/assets/colab-badge.svg\" alt=\"Open In Colab\"/></a>"
      ]
    },
    {
      "cell_type": "code",
      "execution_count": 1,
      "metadata": {
        "id": "Sq2rxRgR6fcG"
      },
      "outputs": [],
      "source": [
        "def sum_of_numbers(a,b,c):\n",
        "  return a+b+c"
      ]
    },
    {
      "cell_type": "code",
      "source": [
        "sum_of_numbers(-2,-2,8)"
      ],
      "metadata": {
        "colab": {
          "base_uri": "https://localhost:8080/"
        },
        "id": "sPNVIPDw8Vi5",
        "outputId": "59eda118-6675-4fca-ef20-17098166a944"
      },
      "execution_count": 2,
      "outputs": [
        {
          "output_type": "execute_result",
          "data": {
            "text/plain": [
              "4"
            ]
          },
          "metadata": {},
          "execution_count": 2
        }
      ]
    },
    {
      "cell_type": "code",
      "source": [
        "## sum of n numbers\n",
        "def sum(n):\n",
        "  sum=0;\n",
        "  for i in range(n+1):\n",
        "    sum += i\n",
        "  return sum"
      ],
      "metadata": {
        "id": "Dsr1PIyD8clp"
      },
      "execution_count": 6,
      "outputs": []
    },
    {
      "cell_type": "code",
      "source": [
        "sum(10)"
      ],
      "metadata": {
        "colab": {
          "base_uri": "https://localhost:8080/"
        },
        "id": "EvZPjmby83Cl",
        "outputId": "fb8c9267-2169-4266-ba18-b9bfda53b680"
      },
      "execution_count": 7,
      "outputs": [
        {
          "output_type": "execute_result",
          "data": {
            "text/plain": [
              "55"
            ]
          },
          "metadata": {},
          "execution_count": 7
        }
      ]
    },
    {
      "cell_type": "code",
      "source": [
        "# check given number is even or odd\n",
        "def isEven(n):\n",
        "  if n%2 == 0:\n",
        "    return True\n",
        "  else:\n",
        "    return False"
      ],
      "metadata": {
        "id": "DtyAxOlvAmEy"
      },
      "execution_count": 8,
      "outputs": []
    },
    {
      "cell_type": "code",
      "source": [
        "isEven(3)"
      ],
      "metadata": {
        "colab": {
          "base_uri": "https://localhost:8080/"
        },
        "id": "uJBI1lyGA9Yj",
        "outputId": "7e5ff8d5-2017-40f7-ce2e-1df51a89e492"
      },
      "execution_count": 10,
      "outputs": [
        {
          "output_type": "execute_result",
          "data": {
            "text/plain": [
              "False"
            ]
          },
          "metadata": {},
          "execution_count": 10
        }
      ]
    },
    {
      "cell_type": "code",
      "source": [
        "## Arbitrary Positional Arguments:\n",
        "#These are denoted by a single asterisk (*) before the parameter name in the function definition.\n",
        "#This allows the function to accept any number of positional arguments, which are then captured into a tuple within the function.\n",
        "def my_function(*args):\n",
        "    for arg in args:\n",
        "        print(arg)\n",
        "\n",
        "my_function(1, 2, 3)  # Output: 1 2 3\n",
        "my_function('a', 'b', 'c', 'd')  # Output: a b c d"
      ],
      "metadata": {
        "colab": {
          "base_uri": "https://localhost:8080/"
        },
        "id": "PliTFotsKV5b",
        "outputId": "71112517-02cc-4c1f-e21d-5849a0395bf7"
      },
      "execution_count": 14,
      "outputs": [
        {
          "output_type": "stream",
          "name": "stdout",
          "text": [
            "1\n",
            "2\n",
            "3\n",
            "a\n",
            "b\n",
            "c\n",
            "d\n"
          ]
        }
      ]
    },
    {
      "cell_type": "code",
      "source": [
        "def sum(*args):\n",
        "  sum=0\n",
        "  for arg in args:\n",
        "    sum+=arg\n",
        "  return sum\n",
        "\n",
        "sum(1,2,3,4,5)"
      ],
      "metadata": {
        "colab": {
          "base_uri": "https://localhost:8080/"
        },
        "id": "VwAASgclK0fS",
        "outputId": "8737bee8-2e3c-4a7f-e896-fd3a78ef56bf"
      },
      "execution_count": 16,
      "outputs": [
        {
          "output_type": "execute_result",
          "data": {
            "text/plain": [
              "15"
            ]
          },
          "metadata": {},
          "execution_count": 16
        }
      ]
    },
    {
      "cell_type": "code",
      "source": [
        "#Arbitrary Keyword Arguments:\n",
        "#These are denoted by double asterisks (**) before the parameter name in the function definition.\n",
        "#This allows the function to accept any number of keyword arguments, which are then captured into a dictionary within the function."
      ],
      "metadata": {
        "id": "29v6iBSfLap8"
      },
      "execution_count": null,
      "outputs": []
    },
    {
      "cell_type": "code",
      "source": [
        "def my_function(**kwargs):\n",
        "    for key, value in kwargs.items():\n",
        "        print(f\"{key}: {value}\")\n",
        "\n",
        "my_function(a=1, b=2, c=3)  # Output: a: 1, b: 2, c: 3\n",
        "my_function(name='Alice', age=30)  # Output: name: Alice, age: 30"
      ],
      "metadata": {
        "colab": {
          "base_uri": "https://localhost:8080/"
        },
        "id": "Spg9PaatMCyg",
        "outputId": "59f07ef1-284e-47d5-cd30-1522c549fe60"
      },
      "execution_count": 17,
      "outputs": [
        {
          "output_type": "stream",
          "name": "stdout",
          "text": [
            "a: 1\n",
            "b: 2\n",
            "c: 3\n",
            "name: Alice\n",
            "age: 30\n"
          ]
        }
      ]
    },
    {
      "cell_type": "code",
      "source": [
        "def students(**student):\n",
        "  return student\n",
        "\n",
        "students(name='ganesh', age=30, phone=768)"
      ],
      "metadata": {
        "colab": {
          "base_uri": "https://localhost:8080/"
        },
        "id": "0ySv0GWEMJM6",
        "outputId": "e2bf016a-939b-403c-a7a4-f3d2b3f9a9f6"
      },
      "execution_count": 23,
      "outputs": [
        {
          "output_type": "execute_result",
          "data": {
            "text/plain": [
              "{'name': 'ganesh', 'age': 30, 'phone': 768}"
            ]
          },
          "metadata": {},
          "execution_count": 23
        }
      ]
    },
    {
      "cell_type": "code",
      "source": [
        "def my_function(*a, **b):\n",
        "  return a, b\n",
        "\n",
        "my_function(1,2,3,4,name='ganesh', age=30, phone=768)"
      ],
      "metadata": {
        "colab": {
          "base_uri": "https://localhost:8080/"
        },
        "id": "mkY6tEGlNif1",
        "outputId": "1018ef64-d7fb-4b75-8936-a93d0f41cb4a"
      },
      "execution_count": 26,
      "outputs": [
        {
          "output_type": "execute_result",
          "data": {
            "text/plain": [
              "((1, 2, 3, 4), {'name': 'ganesh', 'age': 30, 'phone': 768})"
            ]
          },
          "metadata": {},
          "execution_count": 26
        }
      ]
    },
    {
      "cell_type": "code",
      "source": [
        "# def rec_sum(n):\n",
        "#   sum = n\n",
        "#   if n == 0:\n",
        "#     sum = 0\n",
        "#   else:\n",
        "#     sum = sum + rec_sum(n-1)\n",
        "#   return sum\n",
        "def rec_sum(n):\n",
        "  if n == 1:\n",
        "    return 1\n",
        "  else:\n",
        "    return n + rec_sum(n-1)"
      ],
      "metadata": {
        "id": "MxjjuuJNPFkH"
      },
      "execution_count": 49,
      "outputs": []
    },
    {
      "cell_type": "code",
      "source": [
        "rec_sum(3)"
      ],
      "metadata": {
        "colab": {
          "base_uri": "https://localhost:8080/"
        },
        "id": "1iUWBVqaPe03",
        "outputId": "0c70df8f-9827-4a67-fcb3-b43878fd0dde"
      },
      "execution_count": 50,
      "outputs": [
        {
          "output_type": "execute_result",
          "data": {
            "text/plain": [
              "6"
            ]
          },
          "metadata": {},
          "execution_count": 50
        }
      ]
    },
    {
      "cell_type": "code",
      "source": [
        "def rec_fact(n):\n",
        "  if n==1:\n",
        "    return 1\n",
        "  else:\n",
        "    return n * rec_fact(n-1)\n",
        "\n",
        "rec_fact(5)"
      ],
      "metadata": {
        "colab": {
          "base_uri": "https://localhost:8080/"
        },
        "id": "bz0RpZE1TRZo",
        "outputId": "dc3b2e78-4a38-413f-a1ee-58dd5cb9ec94"
      },
      "execution_count": 52,
      "outputs": [
        {
          "output_type": "execute_result",
          "data": {
            "text/plain": [
              "120"
            ]
          },
          "metadata": {},
          "execution_count": 52
        }
      ]
    },
    {
      "cell_type": "code",
      "source": [
        "#Fibonacci series using recursion\n",
        "def rec_fibonacci(n):\n",
        "  if n <= 1:\n",
        "    return n\n",
        "  else:\n",
        "    return rec_fibonacci(n-1) + rec_fibonacci(n-2)\n",
        "\n",
        "for i in range(10):\n",
        "  print(rec_fibonacci(i), end=\" \")\n",
        "print()\n",
        "\n",
        "# fib_series = [rec_fibonacci(i) for i in range(10)]\n",
        "print([rec_fibonacci(i) for i in range(10)])"
      ],
      "metadata": {
        "colab": {
          "base_uri": "https://localhost:8080/"
        },
        "id": "WoFj-FsDXXtY",
        "outputId": "78b3023d-5ec1-43c5-c281-e2f76da4fc45"
      },
      "execution_count": 70,
      "outputs": [
        {
          "output_type": "stream",
          "name": "stdout",
          "text": [
            "0 1 1 2 3 5 8 13 21 34 \n",
            "[0, 1, 1, 2, 3, 5, 8, 13, 21, 34]\n"
          ]
        }
      ]
    },
    {
      "cell_type": "code",
      "source": [
        "def second_smallest(numbers):\n",
        "  if len(numbers) < 2:\n",
        "      return \"List must have at least two elements\"\n",
        "\n",
        "  smallest = float('inf')\n",
        "  second_smallest = float('inf')\n",
        "\n",
        "  for num in numbers:\n",
        "      if num < smallest:\n",
        "          second_smallest = smallest\n",
        "          smallest = num\n",
        "      elif num < second_smallest and num != smallest:\n",
        "          second_smallest = num\n",
        "\n",
        "  return second_smallest\n",
        "\n",
        "print(second_smallest([5, 2, 8, 3, 5, 6, 7]))"
      ],
      "metadata": {
        "colab": {
          "base_uri": "https://localhost:8080/"
        },
        "id": "RLQshTjxapji",
        "outputId": "3ea7909d-e955-4cef-e163-c6fe6ddc86bc"
      },
      "execution_count": 60,
      "outputs": [
        {
          "output_type": "stream",
          "name": "stdout",
          "text": [
            "3\n"
          ]
        }
      ]
    },
    {
      "cell_type": "code",
      "source": [
        "#lambda functions\n",
        "add = lambda n1, n2: n1 + n2\n",
        "add(6, 5)"
      ],
      "metadata": {
        "colab": {
          "base_uri": "https://localhost:8080/"
        },
        "id": "9l-AB8S2chzh",
        "outputId": "8ab3275e-9dfc-4344-ce86-5fa1cccc574f"
      },
      "execution_count": 63,
      "outputs": [
        {
          "output_type": "execute_result",
          "data": {
            "text/plain": [
              "11"
            ]
          },
          "metadata": {},
          "execution_count": 63
        }
      ]
    },
    {
      "cell_type": "code",
      "source": [
        "list1=[1,2,3,4]\n",
        "list2=[3,4,5,6,7]\n",
        "list(zip(list1,list2))"
      ],
      "metadata": {
        "colab": {
          "base_uri": "https://localhost:8080/"
        },
        "id": "XORdvppyeipN",
        "outputId": "0046cfa7-fe92-4967-cb19-049d59b9311a"
      },
      "execution_count": 71,
      "outputs": [
        {
          "output_type": "execute_result",
          "data": {
            "text/plain": [
              "[(1, 3), (2, 4), (3, 5), (4, 6)]"
            ]
          },
          "metadata": {},
          "execution_count": 71
        }
      ]
    },
    {
      "cell_type": "code",
      "source": [
        "s=\" \".join(['welcome', 'to', '123'])\n",
        "s"
      ],
      "metadata": {
        "colab": {
          "base_uri": "https://localhost:8080/",
          "height": 35
        },
        "id": "RorT663qe-i_",
        "outputId": "cf3c7229-4796-4445-8373-003e9c443d4b"
      },
      "execution_count": 74,
      "outputs": [
        {
          "output_type": "execute_result",
          "data": {
            "text/plain": [
              "'welcome to 123'"
            ],
            "application/vnd.google.colaboratory.intrinsic+json": {
              "type": "string"
            }
          },
          "metadata": {},
          "execution_count": 74
        }
      ]
    },
    {
      "cell_type": "code",
      "source": [
        "import random\n",
        "random.randint(1,6)"
      ],
      "metadata": {
        "colab": {
          "base_uri": "https://localhost:8080/"
        },
        "id": "3Zyf5UOZf5ul",
        "outputId": "85dad0ad-81dc-4392-bf84-01e3467ccab0"
      },
      "execution_count": 75,
      "outputs": [
        {
          "output_type": "execute_result",
          "data": {
            "text/plain": [
              "3"
            ]
          },
          "metadata": {},
          "execution_count": 75
        }
      ]
    },
    {
      "cell_type": "code",
      "source": [
        "# Function to roll a single die\n",
        "def roll_die():\n",
        "    return random.randint(1, 6)\n",
        "\n",
        "# Function for computer's turn\n",
        "def computer_turn(total_score):\n",
        "    print(\"Computer's turn:\")\n",
        "    turn_score = 0\n",
        "    while turn_score < 20:\n",
        "        roll = roll_die()\n",
        "        print(f\"Computer rolled: {roll}\")\n",
        "        if roll == 1:\n",
        "            print(\"Computer rolled a 1. Turn over!\")\n",
        "            return total_score\n",
        "        else:\n",
        "            turn_score += roll\n",
        "            print(f\"Total score this turn: {turn_score}\")\n",
        "    total_score += turn_score\n",
        "    return total_score\n",
        "\n",
        "# Function for player's turn\n",
        "def player_turn(player_name, total_score):\n",
        "    print(f\"{player_name}'s turn:\")\n",
        "    turn_score = 0\n",
        "    while True:\n",
        "        choice = input(\"Roll the die? (y/n): \").lower()\n",
        "        if choice != 'y':\n",
        "            break\n",
        "        roll = int(input(\"Enter the number on the die (1-6): \"))\n",
        "        if roll < 1 or roll > 6:\n",
        "            print(\"Invalid input! Please enter a number between 1 and 6.\")\n",
        "            continue\n",
        "        print(f\"You rolled: {roll}\")\n",
        "        if roll == 1:\n",
        "            print(\"You rolled a 1. Turn over!\")\n",
        "            return total_score\n",
        "        else:\n",
        "            turn_score += roll\n",
        "            print(f\"Total score this turn: {turn_score}\")\n",
        "    total_score += turn_score\n",
        "    return total_score\n",
        "\n",
        "# Function to play the Pig Dice game\n",
        "def play_pig_dice():\n",
        "    player_name = input(\"Enter your name: \")\n",
        "    player_score = 0\n",
        "    computer_score = 0\n",
        "    while player_score < 100 and computer_score < 100:\n",
        "        player_score = player_turn(player_name, player_score)\n",
        "        if player_score >= 100:\n",
        "            print(f\"{player_name} wins with a score of {player_score}!\")\n",
        "            break\n",
        "        computer_score = computer_turn(computer_score)\n",
        "        if computer_score >= 100:\n",
        "            print(\"Computer wins with a score of\", computer_score)\n",
        "            break\n",
        "\n",
        "# Start the game\n",
        "play_pig_dice()\n"
      ],
      "metadata": {
        "colab": {
          "base_uri": "https://localhost:8080/"
        },
        "id": "BRPh8uSahmIg",
        "outputId": "6a26c3c4-f5b8-448d-f2b3-e618353353e7"
      },
      "execution_count": 77,
      "outputs": [
        {
          "output_type": "stream",
          "name": "stdout",
          "text": [
            "Enter your name: Ganesh\n",
            "Ganesh's turn:\n",
            "Roll the die? (y/n): y\n",
            "Enter the number on the die (1-6): 6\n",
            "You rolled: 6\n",
            "Total score this turn: 6\n",
            "Roll the die? (y/n): 7\n",
            "Computer's turn:\n",
            "Computer rolled: 2\n",
            "Total score this turn: 2\n",
            "Computer rolled: 6\n",
            "Total score this turn: 8\n",
            "Computer rolled: 1\n",
            "Computer rolled a 1. Turn over!\n",
            "Ganesh's turn:\n",
            "Roll the die? (y/n): 0\n",
            "Computer's turn:\n",
            "Computer rolled: 2\n",
            "Total score this turn: 2\n",
            "Computer rolled: 3\n",
            "Total score this turn: 5\n",
            "Computer rolled: 1\n",
            "Computer rolled a 1. Turn over!\n",
            "Ganesh's turn:\n",
            "Roll the die? (y/n): 3\n",
            "Computer's turn:\n",
            "Computer rolled: 2\n",
            "Total score this turn: 2\n",
            "Computer rolled: 3\n",
            "Total score this turn: 5\n",
            "Computer rolled: 4\n",
            "Total score this turn: 9\n",
            "Computer rolled: 4\n",
            "Total score this turn: 13\n",
            "Computer rolled: 4\n",
            "Total score this turn: 17\n",
            "Computer rolled: 5\n",
            "Total score this turn: 22\n",
            "Ganesh's turn:\n",
            "Roll the die? (y/n): 4\n",
            "Computer's turn:\n",
            "Computer rolled: 4\n",
            "Total score this turn: 4\n",
            "Computer rolled: 4\n",
            "Total score this turn: 8\n",
            "Computer rolled: 3\n",
            "Total score this turn: 11\n",
            "Computer rolled: 6\n",
            "Total score this turn: 17\n",
            "Computer rolled: 6\n",
            "Total score this turn: 23\n",
            "Ganesh's turn:\n",
            "Roll the die? (y/n): 2\n",
            "Computer's turn:\n",
            "Computer rolled: 3\n",
            "Total score this turn: 3\n",
            "Computer rolled: 5\n",
            "Total score this turn: 8\n",
            "Computer rolled: 6\n",
            "Total score this turn: 14\n",
            "Computer rolled: 5\n",
            "Total score this turn: 19\n",
            "Computer rolled: 2\n",
            "Total score this turn: 21\n",
            "Ganesh's turn:\n",
            "Roll the die? (y/n): 4\n",
            "Computer's turn:\n",
            "Computer rolled: 3\n",
            "Total score this turn: 3\n",
            "Computer rolled: 5\n",
            "Total score this turn: 8\n",
            "Computer rolled: 6\n",
            "Total score this turn: 14\n",
            "Computer rolled: 4\n",
            "Total score this turn: 18\n",
            "Computer rolled: 6\n",
            "Total score this turn: 24\n",
            "Ganesh's turn:\n",
            "Roll the die? (y/n): 6\n",
            "Computer's turn:\n",
            "Computer rolled: 3\n",
            "Total score this turn: 3\n",
            "Computer rolled: 3\n",
            "Total score this turn: 6\n",
            "Computer rolled: 3\n",
            "Total score this turn: 9\n",
            "Computer rolled: 6\n",
            "Total score this turn: 15\n",
            "Computer rolled: 4\n",
            "Total score this turn: 19\n",
            "Computer rolled: 3\n",
            "Total score this turn: 22\n",
            "Computer wins with a score of 112\n"
          ]
        }
      ]
    }
  ]
}