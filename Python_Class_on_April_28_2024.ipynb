{
  "nbformat": 4,
  "nbformat_minor": 0,
  "metadata": {
    "colab": {
      "provenance": [],
      "authorship_tag": "ABX9TyMGV9pGXIzz0q2sSNncUji5",
      "include_colab_link": true
    },
    "kernelspec": {
      "name": "python3",
      "display_name": "Python 3"
    },
    "language_info": {
      "name": "python"
    }
  },
  "cells": [
    {
      "cell_type": "markdown",
      "metadata": {
        "id": "view-in-github",
        "colab_type": "text"
      },
      "source": [
        "<a href=\"https://colab.research.google.com/github/ganeshdasrla/odin_python/blob/main/Python_Class_on_April_28_2024.ipynb\" target=\"_parent\"><img src=\"https://colab.research.google.com/assets/colab-badge.svg\" alt=\"Open In Colab\"/></a>"
      ]
    },
    {
      "cell_type": "code",
      "execution_count": 19,
      "metadata": {
        "id": "hNxAMNVt__bn"
      },
      "outputs": [],
      "source": [
        "class Boy:\n",
        "  def __init__(self, name):\n",
        "    self.name = name\n",
        "\n",
        "  def run(self):\n",
        "    print(f\"{self.name} is running\")\n",
        "\n",
        "  def walk(self, distance):\n",
        "    print(f\"{self.name} is walking {distance} km\")\n",
        "\n",
        "  def __str__(self):\n",
        "    return \"Message is getting printed\""
      ]
    },
    {
      "cell_type": "code",
      "source": [
        "# Create an instance of the Boy class with the name \"Ganesh\"\n",
        "a = Boy(\"Ganesh\")\n",
        "\n",
        "# Call the run method\n",
        "a.run()\n",
        "\n",
        "# Call the walk method with a distance of 2.5 km\n",
        "a.walk(2.5)"
      ],
      "metadata": {
        "colab": {
          "base_uri": "https://localhost:8080/"
        },
        "id": "guayTK5jBORk",
        "outputId": "1dedc4c0-af74-47b3-a23a-9a4e7cf98026"
      },
      "execution_count": 20,
      "outputs": [
        {
          "output_type": "stream",
          "name": "stdout",
          "text": [
            "Ganesh is running\n",
            "Ganesh is walking 2.5 km\n"
          ]
        }
      ]
    },
    {
      "cell_type": "code",
      "source": [
        "print(a)"
      ],
      "metadata": {
        "colab": {
          "base_uri": "https://localhost:8080/"
        },
        "id": "Vpu18Zk-Cis7",
        "outputId": "edf9f3b0-b9ee-446e-e2df-b82b9b3d1f01"
      },
      "execution_count": 21,
      "outputs": [
        {
          "output_type": "stream",
          "name": "stdout",
          "text": [
            "Message is getting printed\n"
          ]
        }
      ]
    },
    {
      "cell_type": "code",
      "source": [
        "class Animal:\n",
        "  def __init__(self, name, breed):\n",
        "    self.__name = name ##private\n",
        "    # self.name = name   ##public\n",
        "    self.breed = breed ##public\n",
        "\n",
        "  def get_name(self):\n",
        "    return self.__name\n",
        "\n",
        "  def set_name(self, new_name):\n",
        "    # self.name = new_name\n",
        "    self.__name = new_name\n",
        "\n",
        "\n",
        "dog = Animal('Lenny', 'Rotweiller')\n",
        "print(dog.get_name())\n",
        "# print(dog.name)\n",
        "\n",
        "dog.set_name('Jacky')\n",
        "# print(dog.name)"
      ],
      "metadata": {
        "colab": {
          "base_uri": "https://localhost:8080/"
        },
        "id": "0BCn5Z4EDMkT",
        "outputId": "7011fb27-0929-481c-a987-937f00e64add"
      },
      "execution_count": 41,
      "outputs": [
        {
          "output_type": "stream",
          "name": "stdout",
          "text": [
            "Lenny\n"
          ]
        }
      ]
    },
    {
      "cell_type": "code",
      "source": [
        "class Boy:\n",
        "\n",
        "  def run():\n",
        "    print(\"Abhijeet is runing\")\n",
        "\n",
        "  def walk():\n",
        "    print(\"Abhijeet is walking 2.5km\")\n",
        "class Boy:\n",
        "  def __init__(self,name):\n",
        "    self.name = name\n",
        "  def run(self):\n",
        "    print(f\"{self.name} is runing\")\n",
        "\n",
        "  def walk(self,b):\n",
        "    print(f\"{self.name} is walking {b} km\")\n",
        "  def __str__(self):\n",
        "    return \"Message is getting printed\"\n",
        "\n",
        "a = Boy(\"Abhijeet\") # Construtor\n",
        "a.run()\n",
        "a.walk(2.5)"
      ],
      "metadata": {
        "colab": {
          "base_uri": "https://localhost:8080/"
        },
        "id": "4oBz40IBUJ55",
        "outputId": "10cf85c9-ca60-4ea4-8c54-8599f232d794"
      },
      "execution_count": 43,
      "outputs": [
        {
          "output_type": "stream",
          "name": "stdout",
          "text": [
            "Abhijeet is runing\n",
            "Abhijeet is walking 2.5 km\n"
          ]
        }
      ]
    },
    {
      "cell_type": "code",
      "source": [
        "'''\n",
        "create a Class Animal and Then i want to pass two value to The costructor as name and Breed\n",
        "'''\n",
        "class Animal:\n",
        "  def __init__(self,name,breed):\n",
        "       self.__name=name # private\n",
        "       self.breed = breed # public\n",
        "  def get_name(self):\n",
        "    return self.__name\n",
        "  def set_name(self,new_name):\n",
        "    self.__name = new_name\n",
        "a = Animal(\"Maggi\",\"German Shepherd\")\n",
        "print(a.get_name())\n",
        "a.set_name(\"Jackey\")\n",
        "print(a.get_name())"
      ],
      "metadata": {
        "colab": {
          "base_uri": "https://localhost:8080/"
        },
        "id": "ujiTWFhjUOGx",
        "outputId": "3760793d-cab1-41c5-e3ad-eb3df2d2e38c"
      },
      "execution_count": 44,
      "outputs": [
        {
          "output_type": "stream",
          "name": "stdout",
          "text": [
            "Maggi\n",
            "Jackey\n"
          ]
        }
      ]
    },
    {
      "cell_type": "code",
      "source": [
        "class Bird:\n",
        "    def __init__(self):\n",
        "        print(\"Bird is ready\")\n",
        "    def whoisThis(self):\n",
        "        print(\"Bird\")\n",
        "    def swim(self):\n",
        "        print(\"Swim faster\")\n",
        "# Child\n",
        "class Penguin(Bird):\n",
        "    def __init__(self):\n",
        "        print(\"Penguin is ready\")\n",
        "    def whoisThis(self):\n",
        "        super().whoisThis()\n",
        "        print(\"Penguin\")\n",
        "    def run(self):\n",
        "        #super().run()\n",
        "        print(\"Run faster\")\n",
        "\n",
        "a = Penguin()\n",
        "a.whoisThis()\n",
        "a.swim()\n",
        "a.run()"
      ],
      "metadata": {
        "colab": {
          "base_uri": "https://localhost:8080/"
        },
        "id": "f6smgnAeIRnW",
        "outputId": "a24f34ab-5095-4158-c4f9-9ae50fdf285e"
      },
      "execution_count": 45,
      "outputs": [
        {
          "output_type": "stream",
          "name": "stdout",
          "text": [
            "Penguin is ready\n",
            "Bird\n",
            "Penguin\n",
            "Swim faster\n",
            "Run faster\n"
          ]
        }
      ]
    }
  ]
}