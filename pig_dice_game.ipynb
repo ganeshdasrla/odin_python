{
  "nbformat": 4,
  "nbformat_minor": 0,
  "metadata": {
    "colab": {
      "provenance": [],
      "include_colab_link": true
    },
    "kernelspec": {
      "name": "python3",
      "display_name": "Python 3"
    },
    "language_info": {
      "name": "python"
    }
  },
  "cells": [
    {
      "cell_type": "markdown",
      "metadata": {
        "id": "view-in-github",
        "colab_type": "text"
      },
      "source": [
        "<a href=\"https://colab.research.google.com/github/ganeshdasrla/odin_python/blob/main/pig_dice_game.ipynb\" target=\"_parent\"><img src=\"https://colab.research.google.com/assets/colab-badge.svg\" alt=\"Open In Colab\"/></a>"
      ]
    },
    {
      "cell_type": "markdown",
      "source": [
        "Pig Dice Game"
      ],
      "metadata": {
        "id": "_jqtoDJQeBDl"
      }
    },
    {
      "cell_type": "code",
      "execution_count": 1,
      "metadata": {
        "colab": {
          "base_uri": "https://localhost:8080/"
        },
        "id": "H1xL34N-dBFX",
        "outputId": "dd6ef223-ff0f-4ac3-8ae4-365f52d09f12"
      },
      "outputs": [
        {
          "output_type": "stream",
          "name": "stdout",
          "text": [
            "enter your value between 1 to 6: 6\n",
            "computer has generated::  5\n",
            "player1 has won\n",
            "\n",
            "enter your value between 1 to 6: 5\n",
            "computer has generated::  3\n",
            "player1 has won\n",
            "\n",
            "enter your value between 1 to 6: 4\n",
            "computer has generated::  4\n",
            "enter your value between 1 to 6: 5\n",
            "you won\n"
          ]
        }
      ],
      "source": [
        "###\n",
        "import random\n",
        "player1_score=0\n",
        "player2_score=0\n",
        "count=0\n",
        "while count<3:\n",
        "  player1_input=int(input(\"enter your value between 1 to 6: \"))\n",
        "  while  player1_input < 1 or player1_input > 6:\n",
        "    print(\"input is not valid \")\n",
        "    player1_input=int(input(\"please enter your value between 1 to 6 only!!:  \"))\n",
        "  player2_input=random.randint(1,6)\n",
        "  print(\"computer has generated:: \",player2_input)\n",
        "  if player1_input>player2_input:\n",
        "    player1_score+=1\n",
        "    print(\"player1 has won\")\n",
        "    print()\n",
        "  elif player1_input==player2_input:\n",
        "    player1_input=int(input(\"enter your value between 1 to 6: \"))\n",
        "    while  player1_input < 1 or player1_input > 6:\n",
        "      print(\"input is not valid\")\n",
        "      player1_input=int(input(\"please enter your value between 1 to 6 only !: \"))\n",
        "      player2_input=random.randint(1,6)\n",
        "      print(\"computer has generated::\",player2_input)\n",
        "  else:\n",
        "    player2_score+=1\n",
        "    print(\"player 2 has won\")\n",
        "    print()\n",
        "  count+=1\n",
        "if player1_score>player2_score:\n",
        "  print(\"you won\")\n",
        "else:\n",
        "  print(\"sorry, better luck next time \")\n",
        "\n",
        "\n",
        "\n"
      ]
    },
    {
      "cell_type": "code",
      "source": [
        "\n",
        "\n"
      ],
      "metadata": {
        "id": "qMFp9aKSfCrO"
      },
      "execution_count": null,
      "outputs": []
    }
  ]
}