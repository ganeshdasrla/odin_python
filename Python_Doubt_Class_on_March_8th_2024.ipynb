{
  "nbformat": 4,
  "nbformat_minor": 0,
  "metadata": {
    "colab": {
      "provenance": [],
      "authorship_tag": "ABX9TyNjcrSUacZEd30pvvqZzu9i",
      "include_colab_link": true
    },
    "kernelspec": {
      "name": "python3",
      "display_name": "Python 3"
    },
    "language_info": {
      "name": "python"
    }
  },
  "cells": [
    {
      "cell_type": "markdown",
      "metadata": {
        "id": "view-in-github",
        "colab_type": "text"
      },
      "source": [
        "<a href=\"https://colab.research.google.com/github/ganeshdasrla/odin_python/blob/main/Python_Doubt_Class_on_March_8th_2024.ipynb\" target=\"_parent\"><img src=\"https://colab.research.google.com/assets/colab-badge.svg\" alt=\"Open In Colab\"/></a>"
      ]
    },
    {
      "cell_type": "code",
      "execution_count": 5,
      "metadata": {
        "colab": {
          "base_uri": "https://localhost:8080/"
        },
        "id": "4C1-fY4UC2NG",
        "outputId": "7c0088a5-3a6b-4911-8873-ff52f2c903e9"
      },
      "outputs": [
        {
          "output_type": "stream",
          "name": "stdout",
          "text": [
            "emoclew\n"
          ]
        }
      ],
      "source": [
        "string = \"welcome\"\n",
        "reverse_string = \"\"\n",
        "i = len(string) - 1\n",
        "while i >= 0:\n",
        "  reverse_string += string[i]\n",
        "  i -= 1\n",
        "\n",
        "print(reverse_string)\n"
      ]
    },
    {
      "cell_type": "code",
      "source": [
        "string = \"welcome\"\n",
        "reverse_string = \"\"\n",
        "i = len(string) - 1\n",
        "for j in range(i, -1, -1):\n",
        "  reverse_string += string[j]\n",
        "\n",
        "print(reverse_string)"
      ],
      "metadata": {
        "colab": {
          "base_uri": "https://localhost:8080/"
        },
        "id": "Y5Jp8NXqEh5H",
        "outputId": "fa8d3262-3cb3-4263-b905-46aa427960aa"
      },
      "execution_count": 8,
      "outputs": [
        {
          "output_type": "stream",
          "name": "stdout",
          "text": [
            "emoclew\n"
          ]
        }
      ]
    },
    {
      "cell_type": "code",
      "source": [
        "string = \"welcome\"\n",
        "reverse_string = \"\"\n",
        "for char in reversed(string):\n",
        "    reverse_string += char\n",
        "\n",
        "print(reverse_string)"
      ],
      "metadata": {
        "colab": {
          "base_uri": "https://localhost:8080/"
        },
        "id": "dQ9M0NZSFGv8",
        "outputId": "88e77ef9-3991-4a9c-d79e-24d2ffab7112"
      },
      "execution_count": 9,
      "outputs": [
        {
          "output_type": "stream",
          "name": "stdout",
          "text": [
            "emoclew\n"
          ]
        }
      ]
    },
    {
      "cell_type": "code",
      "source": [
        "string = \"welcome\"\n",
        "reverse_string = string[::-1]\n",
        "print(reverse_string)"
      ],
      "metadata": {
        "colab": {
          "base_uri": "https://localhost:8080/"
        },
        "id": "ufMq0nanDCqi",
        "outputId": "76ac53dc-8135-493e-8c4d-d606e9e9dc9f"
      },
      "execution_count": 10,
      "outputs": [
        {
          "output_type": "stream",
          "name": "stdout",
          "text": [
            "emoclew\n"
          ]
        }
      ]
    },
    {
      "cell_type": "code",
      "source": [
        "a =[10, 12, 2, 3,6, 19, 0]\n",
        "a.sort()\n",
        "print(a)"
      ],
      "metadata": {
        "colab": {
          "base_uri": "https://localhost:8080/"
        },
        "id": "m0XLSgl0Fub_",
        "outputId": "ddbe7530-b47f-4044-860f-1c7fd493b2f3"
      },
      "execution_count": 12,
      "outputs": [
        {
          "output_type": "stream",
          "name": "stdout",
          "text": [
            "[0, 2, 3, 6, 10, 12, 19]\n"
          ]
        }
      ]
    },
    {
      "cell_type": "code",
      "source": [
        "a =[10, 12, 2, 3,6, 19, 0]\n",
        "print(sorted(a))\n",
        "print(a)"
      ],
      "metadata": {
        "colab": {
          "base_uri": "https://localhost:8080/"
        },
        "id": "G1Nw5VztF8OG",
        "outputId": "9a160625-158d-4765-f121-fe696ffcdc70"
      },
      "execution_count": 15,
      "outputs": [
        {
          "output_type": "stream",
          "name": "stdout",
          "text": [
            "[0, 2, 3, 6, 10, 12, 19]\n",
            "[10, 12, 2, 3, 6, 19, 0]\n"
          ]
        }
      ]
    },
    {
      "cell_type": "code",
      "source": [
        "aa = ['a', '[23, 4, 56,]', 'hi', '[78, 89]']\n",
        "aa.sort()\n",
        "print(aa)"
      ],
      "metadata": {
        "colab": {
          "base_uri": "https://localhost:8080/"
        },
        "id": "gkKKTNIqGLh2",
        "outputId": "4f53bf45-d162-4dfc-f35e-933834da038a"
      },
      "execution_count": 23,
      "outputs": [
        {
          "output_type": "stream",
          "name": "stdout",
          "text": [
            "['[23, 4, 56,]', '[78, 89]', 'a', 'hi']\n"
          ]
        }
      ]
    },
    {
      "cell_type": "code",
      "source": [
        "aaa = ['a1', 'b2', '5h', '4g', '9a', '1a', '2b']\n",
        "aaa.sort()\n",
        "print(aaa)"
      ],
      "metadata": {
        "colab": {
          "base_uri": "https://localhost:8080/"
        },
        "id": "UaLCnAa4Gvjw",
        "outputId": "3b9f4346-fbfa-4bc9-a334-fd7bc41afff9"
      },
      "execution_count": 24,
      "outputs": [
        {
          "output_type": "stream",
          "name": "stdout",
          "text": [
            "['1a', '2b', '4g', '5h', '9a', 'a1', 'b2']\n"
          ]
        }
      ]
    },
    {
      "cell_type": "code",
      "source": [
        "# Custom sorting based on the length of the strings\n",
        "my_list = ['apple', 'banana', 'orange', 'kiwi', 'pear']\n",
        "sorted_list = sorted(my_list, key=len)\n",
        "print(sorted_list)  # Output: ['kiwi', 'pear', 'apple', 'banana', 'orange']"
      ],
      "metadata": {
        "colab": {
          "base_uri": "https://localhost:8080/"
        },
        "id": "yL4FIOn0HMvE",
        "outputId": "8f9f60c5-6efd-46e6-fecd-ab4fb80b1d50"
      },
      "execution_count": 27,
      "outputs": [
        {
          "output_type": "stream",
          "name": "stdout",
          "text": [
            "['kiwi', 'pear', 'apple', 'banana', 'orange']\n"
          ]
        }
      ]
    },
    {
      "cell_type": "code",
      "source": [
        "# Custom sorting based on the last character of each string\n",
        "def last_character(s):\n",
        "  print(s[-1], end=\" \")\n",
        "  return s[-1]\n",
        "\n",
        "my_list = ['apple', 'banana', 'orange', 'kiwi', 'pear']\n",
        "sorted_list = sorted(my_list, key=last_character)\n",
        "print()\n",
        "print(sorted_list)  # Output: ['banana', 'apple', 'orange', 'pear', 'kiwi']"
      ],
      "metadata": {
        "colab": {
          "base_uri": "https://localhost:8080/"
        },
        "id": "yU0YuT_NHW2e",
        "outputId": "c52158a9-da78-42b4-edba-c69e4e13507b"
      },
      "execution_count": 31,
      "outputs": [
        {
          "output_type": "stream",
          "name": "stdout",
          "text": [
            "e a e i r \n",
            "['banana', 'apple', 'orange', 'kiwi', 'pear']\n"
          ]
        }
      ]
    }
  ]
}