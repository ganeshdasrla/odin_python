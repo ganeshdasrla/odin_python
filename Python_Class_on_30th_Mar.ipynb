{
  "nbformat": 4,
  "nbformat_minor": 0,
  "metadata": {
    "colab": {
      "provenance": [],
      "authorship_tag": "ABX9TyNc7dUqu/AzHoMz+4EM68IS",
      "include_colab_link": true
    },
    "kernelspec": {
      "name": "python3",
      "display_name": "Python 3"
    },
    "language_info": {
      "name": "python"
    }
  },
  "cells": [
    {
      "cell_type": "markdown",
      "metadata": {
        "id": "view-in-github",
        "colab_type": "text"
      },
      "source": [
        "<a href=\"https://colab.research.google.com/github/ganeshdasrla/odin_python/blob/main/Python_Class_on_30th_Mar.ipynb\" target=\"_parent\"><img src=\"https://colab.research.google.com/assets/colab-badge.svg\" alt=\"Open In Colab\"/></a>"
      ]
    },
    {
      "cell_type": "code",
      "execution_count": 1,
      "metadata": {
        "colab": {
          "base_uri": "https://localhost:8080/"
        },
        "id": "FvjWAvtHuZzT",
        "outputId": "25c581d2-35c7-46e3-d6ad-e1992fdffab3"
      },
      "outputs": [
        {
          "output_type": "execute_result",
          "data": {
            "text/plain": [
              "15"
            ]
          },
          "metadata": {},
          "execution_count": 1
        }
      ],
      "source": [
        "10+5"
      ]
    },
    {
      "cell_type": "code",
      "source": [
        "## multilple line comment\n",
        "'''\n",
        "This is a multi-line comment in Python.\n",
        "You can use triple-quoted strings to comment out\n",
        "multiple lines of code or text.\n",
        "'''\n"
      ],
      "metadata": {
        "colab": {
          "base_uri": "https://localhost:8080/",
          "height": 53
        },
        "id": "sEgZb3nw0ua_",
        "outputId": "a4d18a92-542b-4770-9218-75e5072510de"
      },
      "execution_count": 6,
      "outputs": [
        {
          "output_type": "execute_result",
          "data": {
            "text/plain": [
              "'\\nThis is a multi-line comment in Python.\\nYou can use triple-quoted strings to comment out\\nmultiple lines of code or text.\\n'"
            ],
            "application/vnd.google.colaboratory.intrinsic+json": {
              "type": "string"
            }
          },
          "metadata": {},
          "execution_count": 6
        }
      ]
    },
    {
      "cell_type": "code",
      "source": [
        "## syntax for variable\n",
        "# variablename=data\n",
        "# varible names alwasy starts with letter only\n",
        "a = 100"
      ],
      "metadata": {
        "id": "3gICDTO52lA5"
      },
      "execution_count": 10,
      "outputs": []
    },
    {
      "cell_type": "code",
      "source": [
        "# pre defined functions\n",
        "print('Welcome to first python class')\n",
        "print('good morning all!')"
      ],
      "metadata": {
        "colab": {
          "base_uri": "https://localhost:8080/"
        },
        "id": "cUlmvbd15dsI",
        "outputId": "1db6b647-a77b-4581-ca8a-949482f91c23"
      },
      "execution_count": 12,
      "outputs": [
        {
          "output_type": "stream",
          "name": "stdout",
          "text": [
            "Welcome to first python class\n",
            "good morning all!\n"
          ]
        }
      ]
    },
    {
      "cell_type": "code",
      "source": [
        "name='Tejas'\n",
        "print(name)"
      ],
      "metadata": {
        "colab": {
          "base_uri": "https://localhost:8080/"
        },
        "id": "4bp_dQhb59ts",
        "outputId": "54196bc6-c067-49e9-9d1f-6da52c0398fe"
      },
      "execution_count": 13,
      "outputs": [
        {
          "output_type": "stream",
          "name": "stdout",
          "text": [
            "Tejas\n"
          ]
        }
      ]
    },
    {
      "cell_type": "code",
      "source": [
        "# print student name Tejas\n",
        "name='Tejas'\n",
        "print('student name is', name)"
      ],
      "metadata": {
        "colab": {
          "base_uri": "https://localhost:8080/"
        },
        "id": "vWOYqRnH6IkA",
        "outputId": "ddcc902b-fece-4787-ae40-6ebe6f4811c2"
      },
      "execution_count": 14,
      "outputs": [
        {
          "output_type": "stream",
          "name": "stdout",
          "text": [
            "student name is Tejas\n"
          ]
        }
      ]
    },
    {
      "cell_type": "code",
      "source": [
        "a = 10\n",
        "print(a)\n",
        "a = 20\n",
        "b = a + 1\n",
        "print(a)\n",
        "print(b)"
      ],
      "metadata": {
        "colab": {
          "base_uri": "https://localhost:8080/"
        },
        "id": "CQKvC-Fm-zXt",
        "outputId": "be323cf8-ef24-4640-edce-04b20fe1f730"
      },
      "execution_count": 17,
      "outputs": [
        {
          "output_type": "stream",
          "name": "stdout",
          "text": [
            "10\n",
            "20\n",
            "21\n"
          ]
        }
      ]
    },
    {
      "cell_type": "code",
      "source": [
        "a='Harshita'\n",
        "b=10\n",
        "c='market'\n",
        "print(a, 'brought', b, \"kg's of apple from\", c)"
      ],
      "metadata": {
        "colab": {
          "base_uri": "https://localhost:8080/"
        },
        "id": "Gdny36JW_wmi",
        "outputId": "ad879f95-4938-4b02-a4fb-d96aded9261a"
      },
      "execution_count": 18,
      "outputs": [
        {
          "output_type": "stream",
          "name": "stdout",
          "text": [
            "Harshita brought 10 kg's of apple from market\n"
          ]
        }
      ]
    },
    {
      "cell_type": "code",
      "source": [
        "# format functions\n",
        "a='Harshita'\n",
        "b=10\n",
        "c='market'\n",
        "print(\"{} brought {} kg's of apple from {}\".format(a,b,c))"
      ],
      "metadata": {
        "colab": {
          "base_uri": "https://localhost:8080/"
        },
        "id": "EThSpLD3ALTu",
        "outputId": "7fb14293-847e-427d-d4c2-252ffe299e29"
      },
      "execution_count": 22,
      "outputs": [
        {
          "output_type": "stream",
          "name": "stdout",
          "text": [
            "Harshita brought 10 kg's of apple from market\n"
          ]
        }
      ]
    },
    {
      "cell_type": "code",
      "source": [
        "# format functions\n",
        "a='Harshita'\n",
        "b=10\n",
        "c='market'\n",
        "print(\"{0} brought {1} kg's of apple from {2}\".format(a,b,c))"
      ],
      "metadata": {
        "id": "yNMG9aBnAy2j"
      },
      "execution_count": null,
      "outputs": []
    },
    {
      "cell_type": "code",
      "source": [
        "# f-strings\n",
        "print(f\"{a} brought {b} kg's of apple from {c}\")"
      ],
      "metadata": {
        "colab": {
          "base_uri": "https://localhost:8080/"
        },
        "id": "Vo8CLk3cBUA2",
        "outputId": "7f14aa9b-8d73-48f6-b0d4-cb1a72dcd733"
      },
      "execution_count": 23,
      "outputs": [
        {
          "output_type": "stream",
          "name": "stdout",
          "text": [
            "Harshita brought 10 kg's of apple from market\n"
          ]
        }
      ]
    },
    {
      "cell_type": "code",
      "source": [
        "#input\n",
        "userinput = input(\"enter you name: \")\n",
        "print(userinput)\n",
        "print(\"you have entered\", userinput)"
      ],
      "metadata": {
        "colab": {
          "base_uri": "https://localhost:8080/"
        },
        "id": "ZxZRBZaYC7Em",
        "outputId": "858fbd1e-4dad-407f-adb1-cc8dd1e677bd"
      },
      "execution_count": 27,
      "outputs": [
        {
          "output_type": "stream",
          "name": "stdout",
          "text": [
            "enter you name: Ganesh\n",
            "Ganesh\n",
            "you have entered Ganesh\n"
          ]
        }
      ]
    },
    {
      "cell_type": "code",
      "source": [
        "# type function\n",
        "a=True\n",
        "print(a)\n",
        "print(type(a))"
      ],
      "metadata": {
        "colab": {
          "base_uri": "https://localhost:8080/"
        },
        "id": "43n_QTEGEAuD",
        "outputId": "6d6b24cd-050f-4641-b835-4b37d3d154f2"
      },
      "execution_count": 28,
      "outputs": [
        {
          "output_type": "stream",
          "name": "stdout",
          "text": [
            "True\n",
            "<class 'bool'>\n"
          ]
        }
      ]
    },
    {
      "cell_type": "code",
      "source": [
        "a=10\n",
        "print(a)\n",
        "print(type(a))"
      ],
      "metadata": {
        "colab": {
          "base_uri": "https://localhost:8080/"
        },
        "id": "jx7aM39aEboi",
        "outputId": "8e4ca91e-2a61-48fd-9d52-d82c3006a089"
      },
      "execution_count": 29,
      "outputs": [
        {
          "output_type": "stream",
          "name": "stdout",
          "text": [
            "10\n",
            "<class 'int'>\n"
          ]
        }
      ]
    },
    {
      "cell_type": "code",
      "source": [
        "userinput = input(\"enter you name: \")\n",
        "print(userinput)\n",
        "print(\"you have entered\", userinput)\n",
        "type(userinput)"
      ],
      "metadata": {
        "colab": {
          "base_uri": "https://localhost:8080/"
        },
        "id": "QGQ46-O9ElZ8",
        "outputId": "ba3ec946-f26f-4e45-9ad3-09ad93d66176"
      },
      "execution_count": 30,
      "outputs": [
        {
          "output_type": "stream",
          "name": "stdout",
          "text": [
            "enter you name: 10\n",
            "10\n",
            "you have entered 10\n"
          ]
        },
        {
          "output_type": "execute_result",
          "data": {
            "text/plain": [
              "str"
            ]
          },
          "metadata": {},
          "execution_count": 30
        }
      ]
    },
    {
      "cell_type": "code",
      "source": [
        "#input function takes default input as string\n",
        "userinput = input()\n",
        "print(userinput)\n",
        "print(\"you have entered\", userinput)\n",
        "type(userinput)"
      ],
      "metadata": {
        "colab": {
          "base_uri": "https://localhost:8080/"
        },
        "id": "eKdJqHXqExAX",
        "outputId": "136bcdd1-8bc7-4f29-fdba-ac2968b0eff8"
      },
      "execution_count": 32,
      "outputs": [
        {
          "output_type": "stream",
          "name": "stdout",
          "text": [
            "10\n",
            "10\n",
            "you have entered 10\n"
          ]
        },
        {
          "output_type": "execute_result",
          "data": {
            "text/plain": [
              "str"
            ]
          },
          "metadata": {},
          "execution_count": 32
        }
      ]
    },
    {
      "cell_type": "code",
      "source": [
        "# explicit integer only use typecasting\n",
        "userinput = input()\n",
        "print(userinput)\n",
        "print(\"you have entered\", userinput)\n",
        "type(userinput)\n",
        "\n",
        "userinput = int(input())\n",
        "print(userinput)\n",
        "print(\"you have entered\", userinput)\n",
        "type(userinput)\n",
        "\n",
        "userinput = int(bool(input()))\n",
        "print(userinput)\n",
        "print(\"you have entered\", userinput)\n",
        "type(userinput)"
      ],
      "metadata": {
        "colab": {
          "base_uri": "https://localhost:8080/"
        },
        "id": "4XK8lhT4FDsx",
        "outputId": "201f44f5-f498-41aa-8eef-0b22baa3fb05"
      },
      "execution_count": 39,
      "outputs": [
        {
          "output_type": "stream",
          "name": "stdout",
          "text": [
            "ten\n",
            "ten\n",
            "you have entered ten\n",
            "10\n",
            "10\n",
            "you have entered 10\n",
            "ten\n",
            "1\n",
            "you have entered 1\n"
          ]
        },
        {
          "output_type": "execute_result",
          "data": {
            "text/plain": [
              "int"
            ]
          },
          "metadata": {},
          "execution_count": 39
        }
      ]
    },
    {
      "cell_type": "code",
      "source": [
        "# arthematice operators +, -, *, /, %\n",
        "a=10\n",
        "b=3\n",
        "print(a+b, a-b, a*b, a/b, a%b)"
      ],
      "metadata": {
        "colab": {
          "base_uri": "https://localhost:8080/"
        },
        "id": "B1i6d_2UIRCD",
        "outputId": "14462c09-440a-44ad-9672-370747bef6ca"
      },
      "execution_count": 40,
      "outputs": [
        {
          "output_type": "stream",
          "name": "stdout",
          "text": [
            "13 7 30 3.3333333333333335 1\n"
          ]
        }
      ]
    },
    {
      "cell_type": "code",
      "source": [
        "a=10\n",
        "b=3\n",
        "print(a**b) #10^3"
      ],
      "metadata": {
        "colab": {
          "base_uri": "https://localhost:8080/"
        },
        "id": "oarUKvgPImu9",
        "outputId": "2a44695e-229f-401a-e94d-76ed5b773b00"
      },
      "execution_count": 41,
      "outputs": [
        {
          "output_type": "stream",
          "name": "stdout",
          "text": [
            "1000\n"
          ]
        }
      ]
    },
    {
      "cell_type": "code",
      "source": [
        "a=10\n",
        "b=3\n",
        "print(a//b) #quotient"
      ],
      "metadata": {
        "colab": {
          "base_uri": "https://localhost:8080/"
        },
        "id": "Gddt7_ObIxNV",
        "outputId": "761e486c-fc87-4a34-83ec-2b836d673927"
      },
      "execution_count": 42,
      "outputs": [
        {
          "output_type": "stream",
          "name": "stdout",
          "text": [
            "3\n"
          ]
        }
      ]
    },
    {
      "cell_type": "code",
      "source": [
        "a=99 #assignment operator\n",
        "a=a+1 # a+=1  short hand assignment\n",
        "print(a)"
      ],
      "metadata": {
        "colab": {
          "base_uri": "https://localhost:8080/"
        },
        "id": "Rt3VH8T5JaTF",
        "outputId": "95029276-bcbb-4313-da62-991261c7dffe"
      },
      "execution_count": 44,
      "outputs": [
        {
          "output_type": "stream",
          "name": "stdout",
          "text": [
            "100\n"
          ]
        }
      ]
    },
    {
      "cell_type": "code",
      "source": [
        "# comparision operator\n",
        "a=5\n",
        "a==5 # compare\n"
      ],
      "metadata": {
        "colab": {
          "base_uri": "https://localhost:8080/"
        },
        "id": "P1T-Rhc_KNuh",
        "outputId": "29496d31-1770-497b-fe10-4c2c64c82f0c"
      },
      "execution_count": 45,
      "outputs": [
        {
          "output_type": "execute_result",
          "data": {
            "text/plain": [
              "True"
            ]
          },
          "metadata": {},
          "execution_count": 45
        }
      ]
    },
    {
      "cell_type": "code",
      "source": [
        "10!=10"
      ],
      "metadata": {
        "colab": {
          "base_uri": "https://localhost:8080/"
        },
        "id": "omroFFlKKp9i",
        "outputId": "9d84d074-6218-40c5-d4ef-a24c4f84827f"
      },
      "execution_count": 46,
      "outputs": [
        {
          "output_type": "execute_result",
          "data": {
            "text/plain": [
              "False"
            ]
          },
          "metadata": {},
          "execution_count": 46
        }
      ]
    },
    {
      "cell_type": "code",
      "source": [
        "#logical operator\n",
        "print(5>5 and 10<20)\n",
        "print(5>5 or 10<20)"
      ],
      "metadata": {
        "colab": {
          "base_uri": "https://localhost:8080/"
        },
        "id": "_-knTkpfKtSM",
        "outputId": "28a8bc81-8ff2-4478-ebcd-942f8c704328"
      },
      "execution_count": 50,
      "outputs": [
        {
          "output_type": "stream",
          "name": "stdout",
          "text": [
            "False\n",
            "True\n"
          ]
        }
      ]
    },
    {
      "cell_type": "code",
      "source": [
        "# memebership operator in not in\n",
        "a=[1,2,3,4,5]\n",
        "print(10 in a)\n",
        "print(10 not in a)"
      ],
      "metadata": {
        "colab": {
          "base_uri": "https://localhost:8080/"
        },
        "id": "jfwCp1l-LtvZ",
        "outputId": "1e79cdc3-815d-404f-a19b-47cd68005c57"
      },
      "execution_count": 52,
      "outputs": [
        {
          "output_type": "stream",
          "name": "stdout",
          "text": [
            "False\n",
            "True\n"
          ]
        }
      ]
    },
    {
      "cell_type": "code",
      "source": [
        "# identity operator\n",
        "x = [1, 2, 3]\n",
        "y = [1, 2, 3]\n",
        "\n",
        "# Using is operator\n",
        "print(x is y)       # Output: False (x and y are different objects in memory)\n",
        "print(x is not y)   # Output: True  (x and y are not the same object)\n",
        "\n",
        "# Using is not operator\n",
        "print(x is not y)   # Output: True  (x and y are not the same object)\n",
        "print(x is y)       # Output: False (x and y are different objects in memory)"
      ],
      "metadata": {
        "colab": {
          "base_uri": "https://localhost:8080/"
        },
        "id": "Ens0_qEOL9I1",
        "outputId": "850ebd7c-19dd-43a7-cb64-d3eb23b00763"
      },
      "execution_count": 53,
      "outputs": [
        {
          "output_type": "stream",
          "name": "stdout",
          "text": [
            "False\n",
            "True\n",
            "True\n",
            "False\n"
          ]
        }
      ]
    }
  ]
}