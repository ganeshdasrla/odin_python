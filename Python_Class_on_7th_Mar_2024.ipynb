{
  "nbformat": 4,
  "nbformat_minor": 0,
  "metadata": {
    "colab": {
      "provenance": [],
      "authorship_tag": "ABX9TyPvZ0gehnjQ48tsuQ4GR5wX",
      "include_colab_link": true
    },
    "kernelspec": {
      "name": "python3",
      "display_name": "Python 3"
    },
    "language_info": {
      "name": "python"
    }
  },
  "cells": [
    {
      "cell_type": "markdown",
      "metadata": {
        "id": "view-in-github",
        "colab_type": "text"
      },
      "source": [
        "<a href=\"https://colab.research.google.com/github/ganeshdasrla/odin_python/blob/main/Python_Class_on_7th_Mar_2024.ipynb\" target=\"_parent\"><img src=\"https://colab.research.google.com/assets/colab-badge.svg\" alt=\"Open In Colab\"/></a>"
      ]
    },
    {
      "cell_type": "code",
      "source": [
        "!pip uninstall -y Pillow\n",
        "!pip install Pillow==5.3.0\n",
        "import PIL.Image"
      ],
      "metadata": {
        "colab": {
          "base_uri": "https://localhost:8080/",
          "height": 479
        },
        "id": "_WIDRK_ecQ53",
        "outputId": "178fc5c4-d488-4be5-914e-0041d11c62ad"
      },
      "execution_count": 93,
      "outputs": [
        {
          "output_type": "stream",
          "name": "stdout",
          "text": [
            "Found existing installation: Pillow 9.4.0\n",
            "Uninstalling Pillow-9.4.0:\n",
            "  Successfully uninstalled Pillow-9.4.0\n",
            "Collecting Pillow==5.3.0\n",
            "  Downloading Pillow-5.3.0.tar.gz (15.6 MB)\n",
            "\u001b[2K     \u001b[90m━━━━━━━━━━━━━━━━━━━━━━━━━━━━━━━━━━━━━━━━\u001b[0m \u001b[32m15.6/15.6 MB\u001b[0m \u001b[31m25.8 MB/s\u001b[0m eta \u001b[36m0:00:00\u001b[0m\n",
            "\u001b[?25h  Preparing metadata (setup.py) ... \u001b[?25l\u001b[?25hdone\n",
            "Building wheels for collected packages: Pillow\n",
            "  Building wheel for Pillow (setup.py) ... \u001b[?25l\u001b[?25hdone\n",
            "  Created wheel for Pillow: filename=Pillow-5.3.0-cp310-cp310-linux_x86_64.whl size=1014406 sha256=0df885d4541ee76b2e496465f18c6cf3142251575062e7e19deaec33ba655a95\n",
            "  Stored in directory: /root/.cache/pip/wheels/e2/3a/40/5c297d58820b8ed94409be8d00c0cfc762e382b1d2284031f2\n",
            "Successfully built Pillow\n",
            "Installing collected packages: Pillow\n",
            "\u001b[31mERROR: pip's dependency resolver does not currently take into account all the packages that are installed. This behaviour is the source of the following dependency conflicts.\n",
            "bokeh 3.3.4 requires pillow>=7.1.0, but you have pillow 5.3.0 which is incompatible.\n",
            "dopamine-rl 4.0.6 requires Pillow>=7.0.0, but you have pillow 5.3.0 which is incompatible.\n",
            "fastai 2.7.14 requires pillow>=9.0.0, but you have pillow 5.3.0 which is incompatible.\n",
            "imageio 2.31.6 requires pillow<10.1.0,>=8.3.2, but you have pillow 5.3.0 which is incompatible.\n",
            "matplotlib 3.7.1 requires pillow>=6.2.0, but you have pillow 5.3.0 which is incompatible.\n",
            "scikit-image 0.19.3 requires pillow!=7.1.0,!=7.1.1,!=8.3.0,>=6.1.0, but you have pillow 5.3.0 which is incompatible.\u001b[0m\u001b[31m\n",
            "\u001b[0mSuccessfully installed Pillow-5.3.0\n"
          ]
        },
        {
          "output_type": "display_data",
          "data": {
            "application/vnd.colab-display-data+json": {
              "pip_warning": {
                "packages": [
                  "PIL"
                ]
              },
              "id": "fd36746f3a0e4f8a863339a773395122"
            }
          },
          "metadata": {}
        }
      ]
    },
    {
      "cell_type": "code",
      "execution_count": null,
      "metadata": {
        "colab": {
          "base_uri": "https://localhost:8080/"
        },
        "id": "BE3iBO4I2Ltm",
        "outputId": "c4b6314c-da64-4721-8c5d-e7dca7de040e"
      },
      "outputs": [
        {
          "output_type": "stream",
          "name": "stdout",
          "text": [
            "1 2 3 4 5 6 7 8 9 10 "
          ]
        }
      ],
      "source": [
        "# print 1 to 10\n",
        "for i in range(1,11):\n",
        "  print(i, end=\" \")"
      ]
    },
    {
      "cell_type": "code",
      "source": [
        "# use while to print 1 to 10\n",
        "i = 1\n",
        "while i < 11:\n",
        "  print(i, end=\" \")\n",
        "  i += 1"
      ],
      "metadata": {
        "colab": {
          "base_uri": "https://localhost:8080/"
        },
        "id": "s5SMB7962hoi",
        "outputId": "bb8ed994-4dc7-482f-937d-54ba6990c0ac"
      },
      "execution_count": null,
      "outputs": [
        {
          "output_type": "stream",
          "name": "stdout",
          "text": [
            "1 2 3 4 5 6 7 8 9 10 "
          ]
        }
      ]
    },
    {
      "cell_type": "code",
      "source": [
        "number = int(input())\n",
        "reversed_number = 0\n",
        "while number > 0:\n",
        "  remainder = number % 10\n",
        "  print(\"remainder:\", remainder)\n",
        "  reversed_number = (reversed_number * 10) + remainder\n",
        "  print(\"reversed number:\", reversed_number)\n",
        "  number = number // 10\n",
        "  print(\"number:\", number)\n",
        "\n",
        "print(f\"Reversed number: {reversed_number} \")"
      ],
      "metadata": {
        "colab": {
          "base_uri": "https://localhost:8080/"
        },
        "id": "Wn03YodA46-O",
        "outputId": "9ce7cebb-f55b-46d2-fcf1-5ef92b640657"
      },
      "execution_count": null,
      "outputs": [
        {
          "output_type": "stream",
          "name": "stdout",
          "text": [
            "12345\n",
            "remainder: 5\n",
            "reversed number: 5\n",
            "number: 1234\n",
            "remainder: 4\n",
            "reversed number: 54\n",
            "number: 123\n",
            "remainder: 3\n",
            "reversed number: 543\n",
            "number: 12\n",
            "remainder: 2\n",
            "reversed number: 5432\n",
            "number: 1\n",
            "remainder: 1\n",
            "reversed number: 54321\n",
            "number: 0\n",
            "Reversed number: 54321 \n"
          ]
        }
      ]
    },
    {
      "cell_type": "code",
      "source": [
        "123 % 10"
      ],
      "metadata": {
        "colab": {
          "base_uri": "https://localhost:8080/"
        },
        "id": "Mh9O6stI5j4K",
        "outputId": "46ead18d-b750-40ce-be88-7fdb1f5ce996"
      },
      "execution_count": null,
      "outputs": [
        {
          "output_type": "execute_result",
          "data": {
            "text/plain": [
              "3"
            ]
          },
          "metadata": {},
          "execution_count": 10
        }
      ]
    },
    {
      "cell_type": "code",
      "source": [
        "a=1\n",
        "while a<=3:\n",
        "  print(\"outer loop\", a)\n",
        "  b=1\n",
        "  while b<=2:\n",
        "    print(\"inner loop\", b)\n",
        "    b = b+1\n",
        "  a=a+1"
      ],
      "metadata": {
        "colab": {
          "base_uri": "https://localhost:8080/"
        },
        "id": "vGWDC6pQ5n6A",
        "outputId": "d45a1d92-7d79-4e69-fb06-c8014cf49967"
      },
      "execution_count": null,
      "outputs": [
        {
          "output_type": "stream",
          "name": "stdout",
          "text": [
            "outer loop 1\n",
            "inner loop 1\n",
            "inner loop 2\n",
            "outer loop 2\n",
            "inner loop 1\n",
            "inner loop 2\n",
            "outer loop 3\n",
            "inner loop 1\n",
            "inner loop 2\n"
          ]
        }
      ]
    },
    {
      "cell_type": "code",
      "source": [
        "a=1\n",
        "b=1\n",
        "while a<=3:\n",
        "  print(\"outer loop\", a)\n",
        "  while b<=2:\n",
        "    print(\"inner loop\", b)\n",
        "    b = b+1\n",
        "  a=a+1"
      ],
      "metadata": {
        "colab": {
          "base_uri": "https://localhost:8080/"
        },
        "id": "r0ZWNuBa8Fhb",
        "outputId": "8a6bdbbb-1ea4-47b3-9e50-202bdea9c8e6"
      },
      "execution_count": null,
      "outputs": [
        {
          "output_type": "stream",
          "name": "stdout",
          "text": [
            "outer loop 1\n",
            "inner loop 1\n",
            "inner loop 2\n",
            "outer loop 2\n",
            "outer loop 3\n"
          ]
        }
      ]
    },
    {
      "cell_type": "code",
      "source": [
        "i = 1\n",
        "while i < 11:\n",
        "  print(f\"2 * {i} = {2*i}\")\n",
        "  i += 1"
      ],
      "metadata": {
        "colab": {
          "base_uri": "https://localhost:8080/"
        },
        "id": "MRbJ2PKF-0ZK",
        "outputId": "55aa63b6-c0f7-4da4-a6b6-c154e1dcb63e"
      },
      "execution_count": null,
      "outputs": [
        {
          "output_type": "stream",
          "name": "stdout",
          "text": [
            "2 * 1 = 2\n",
            "2 * 2 = 4\n",
            "2 * 3 = 6\n",
            "2 * 4 = 8\n",
            "2 * 5 = 10\n",
            "2 * 6 = 12\n",
            "2 * 7 = 14\n",
            "2 * 8 = 16\n",
            "2 * 9 = 18\n",
            "2 * 10 = 20\n"
          ]
        }
      ]
    },
    {
      "cell_type": "code",
      "source": [
        "num = int(input())\n",
        "i = 1\n",
        "while i < num + 1:\n",
        "  j = 1\n",
        "  while j < 11:\n",
        "    print(f\"{i} x {j} = {i*j}\")\n",
        "    j += 1\n",
        "  i += 1\n",
        "  print()"
      ],
      "metadata": {
        "colab": {
          "base_uri": "https://localhost:8080/"
        },
        "id": "EcxuoM0v_OoX",
        "outputId": "99c77dcb-07f4-46c4-d90d-89b241e6e7e1"
      },
      "execution_count": null,
      "outputs": [
        {
          "output_type": "stream",
          "name": "stdout",
          "text": [
            "10\n",
            "1 x 1 = 1\n",
            "1 x 2 = 2\n",
            "1 x 3 = 3\n",
            "1 x 4 = 4\n",
            "1 x 5 = 5\n",
            "1 x 6 = 6\n",
            "1 x 7 = 7\n",
            "1 x 8 = 8\n",
            "1 x 9 = 9\n",
            "1 x 10 = 10\n",
            "\n",
            "2 x 1 = 2\n",
            "2 x 2 = 4\n",
            "2 x 3 = 6\n",
            "2 x 4 = 8\n",
            "2 x 5 = 10\n",
            "2 x 6 = 12\n",
            "2 x 7 = 14\n",
            "2 x 8 = 16\n",
            "2 x 9 = 18\n",
            "2 x 10 = 20\n",
            "\n",
            "3 x 1 = 3\n",
            "3 x 2 = 6\n",
            "3 x 3 = 9\n",
            "3 x 4 = 12\n",
            "3 x 5 = 15\n",
            "3 x 6 = 18\n",
            "3 x 7 = 21\n",
            "3 x 8 = 24\n",
            "3 x 9 = 27\n",
            "3 x 10 = 30\n",
            "\n",
            "4 x 1 = 4\n",
            "4 x 2 = 8\n",
            "4 x 3 = 12\n",
            "4 x 4 = 16\n",
            "4 x 5 = 20\n",
            "4 x 6 = 24\n",
            "4 x 7 = 28\n",
            "4 x 8 = 32\n",
            "4 x 9 = 36\n",
            "4 x 10 = 40\n",
            "\n",
            "5 x 1 = 5\n",
            "5 x 2 = 10\n",
            "5 x 3 = 15\n",
            "5 x 4 = 20\n",
            "5 x 5 = 25\n",
            "5 x 6 = 30\n",
            "5 x 7 = 35\n",
            "5 x 8 = 40\n",
            "5 x 9 = 45\n",
            "5 x 10 = 50\n",
            "\n",
            "6 x 1 = 6\n",
            "6 x 2 = 12\n",
            "6 x 3 = 18\n",
            "6 x 4 = 24\n",
            "6 x 5 = 30\n",
            "6 x 6 = 36\n",
            "6 x 7 = 42\n",
            "6 x 8 = 48\n",
            "6 x 9 = 54\n",
            "6 x 10 = 60\n",
            "\n",
            "7 x 1 = 7\n",
            "7 x 2 = 14\n",
            "7 x 3 = 21\n",
            "7 x 4 = 28\n",
            "7 x 5 = 35\n",
            "7 x 6 = 42\n",
            "7 x 7 = 49\n",
            "7 x 8 = 56\n",
            "7 x 9 = 63\n",
            "7 x 10 = 70\n",
            "\n",
            "8 x 1 = 8\n",
            "8 x 2 = 16\n",
            "8 x 3 = 24\n",
            "8 x 4 = 32\n",
            "8 x 5 = 40\n",
            "8 x 6 = 48\n",
            "8 x 7 = 56\n",
            "8 x 8 = 64\n",
            "8 x 9 = 72\n",
            "8 x 10 = 80\n",
            "\n",
            "9 x 1 = 9\n",
            "9 x 2 = 18\n",
            "9 x 3 = 27\n",
            "9 x 4 = 36\n",
            "9 x 5 = 45\n",
            "9 x 6 = 54\n",
            "9 x 7 = 63\n",
            "9 x 8 = 72\n",
            "9 x 9 = 81\n",
            "9 x 10 = 90\n",
            "\n",
            "10 x 1 = 10\n",
            "10 x 2 = 20\n",
            "10 x 3 = 30\n",
            "10 x 4 = 40\n",
            "10 x 5 = 50\n",
            "10 x 6 = 60\n",
            "10 x 7 = 70\n",
            "10 x 8 = 80\n",
            "10 x 9 = 90\n",
            "10 x 10 = 100\n",
            "\n"
          ]
        }
      ]
    },
    {
      "cell_type": "code",
      "source": [
        "i = 1\n",
        "while i <= 10:\n",
        "  if i == 5:\n",
        "    break\n",
        "  print(i)\n",
        "  i += 1"
      ],
      "metadata": {
        "colab": {
          "base_uri": "https://localhost:8080/"
        },
        "id": "iHuqvZL9_XD6",
        "outputId": "bd5d67ee-ad58-478b-bac3-bbf58976b611"
      },
      "execution_count": null,
      "outputs": [
        {
          "output_type": "stream",
          "name": "stdout",
          "text": [
            "1\n",
            "2\n",
            "3\n",
            "4\n"
          ]
        }
      ]
    },
    {
      "cell_type": "code",
      "source": [
        "i = 0\n",
        "while i < 10:\n",
        "  i += 1\n",
        "  if i % 2 == 0:\n",
        "    continue\n",
        "  print(i)"
      ],
      "metadata": {
        "colab": {
          "base_uri": "https://localhost:8080/"
        },
        "id": "PON8V83xFmgc",
        "outputId": "0db0f418-074c-47ed-9cce-fde1cb2c7b6e"
      },
      "execution_count": null,
      "outputs": [
        {
          "output_type": "stream",
          "name": "stdout",
          "text": [
            "1\n",
            "3\n",
            "5\n",
            "7\n",
            "9\n"
          ]
        }
      ]
    },
    {
      "cell_type": "code",
      "source": [
        "a, b = 2, 3\n",
        "print(a,b)"
      ],
      "metadata": {
        "colab": {
          "base_uri": "https://localhost:8080/"
        },
        "id": "PaH3dSvcFVHN",
        "outputId": "a6ee999b-356e-44f2-ab2c-2b558088654f"
      },
      "execution_count": null,
      "outputs": [
        {
          "output_type": "stream",
          "name": "stdout",
          "text": [
            "2 3\n"
          ]
        }
      ]
    },
    {
      "cell_type": "code",
      "source": [
        "list = []\n",
        "print(list)\n",
        "type(list)\n",
        "print(len(list))"
      ],
      "metadata": {
        "colab": {
          "base_uri": "https://localhost:8080/"
        },
        "id": "EQF81GgJItDv",
        "outputId": "893d07f1-8cf2-4b91-a4c1-bbef58314f43"
      },
      "execution_count": null,
      "outputs": [
        {
          "output_type": "stream",
          "name": "stdout",
          "text": [
            "[]\n",
            "0\n"
          ]
        }
      ]
    },
    {
      "cell_type": "code",
      "source": [
        "a = [12, 13, 45, \"welcome\", True, \"G\", [1,2,3,4]]\n",
        "print(a)\n",
        "print(len(a))\n",
        "print(a[6])\n",
        "print(a.index(\"G\"))\n",
        "a.append(\"Ganesh\")\n",
        "print(a)\n",
        "print(a[3:7])"
      ],
      "metadata": {
        "colab": {
          "base_uri": "https://localhost:8080/"
        },
        "id": "kgUQ4-G1MYOH",
        "outputId": "a6af7fcd-b65f-4f1e-ec1b-380422d35e32"
      },
      "execution_count": null,
      "outputs": [
        {
          "output_type": "stream",
          "name": "stdout",
          "text": [
            "[12, 13, 45, 'welcome', True, 'G', [1, 2, 3, 4]]\n",
            "7\n",
            "[1, 2, 3, 4]\n",
            "5\n",
            "[12, 13, 45, 'welcome', True, 'G', [1, 2, 3, 4], 'Ganesh']\n",
            "['welcome', True, 'G', [1, 2, 3, 4]]\n"
          ]
        }
      ]
    },
    {
      "cell_type": "code",
      "source": [
        "#[start=0:stop=end:step=+1]\n",
        "a[1::2]"
      ],
      "metadata": {
        "colab": {
          "base_uri": "https://localhost:8080/"
        },
        "id": "HXFr5sPGMXtF",
        "outputId": "11e49268-9030-4052-9646-256fd681cdf2"
      },
      "execution_count": null,
      "outputs": [
        {
          "output_type": "execute_result",
          "data": {
            "text/plain": [
              "[13, 'welcome', 'G', 'Ganesh']"
            ]
          },
          "metadata": {},
          "execution_count": 41
        }
      ]
    },
    {
      "cell_type": "code",
      "source": [
        "my_list = [1, 2, 3, 4, 5, 6, 7, 8, 9, 10, 11, 12, 13, 15, 16, 17, 18]\n",
        "\n",
        "# Get the indices based on powers of 2\n",
        "indices = [2 ** i for i in range(1, len(my_list))]\n",
        "\n",
        "# Perform slicing based on the calculated indices\n",
        "sliced_list = [my_list[i] for i in indices if i < len(my_list)]\n",
        "\n",
        "# Print the sliced list\n",
        "for index, value in enumerate(sliced_list):\n",
        "    print(f\"Index: {2*(index+1)}, Value: {value}\")"
      ],
      "metadata": {
        "colab": {
          "base_uri": "https://localhost:8080/"
        },
        "id": "SP4X9LicRgx_",
        "outputId": "4c40f130-edc5-41f2-fded-faff75e2b5c0"
      },
      "execution_count": null,
      "outputs": [
        {
          "output_type": "stream",
          "name": "stdout",
          "text": [
            "Index: 2, Value: 3\n",
            "Index: 4, Value: 5\n",
            "Index: 6, Value: 9\n",
            "Index: 8, Value: 18\n"
          ]
        }
      ]
    },
    {
      "cell_type": "code",
      "source": [
        "a = \"python\"\n",
        "a[::-1]"
      ],
      "metadata": {
        "colab": {
          "base_uri": "https://localhost:8080/",
          "height": 35
        },
        "id": "Sl-58d-ZSZbY",
        "outputId": "88591f4b-780d-499f-f4ba-112455c2b56e"
      },
      "execution_count": null,
      "outputs": [
        {
          "output_type": "execute_result",
          "data": {
            "text/plain": [
              "'nohtyp'"
            ],
            "application/vnd.google.colaboratory.intrinsic+json": {
              "type": "string"
            }
          },
          "metadata": {},
          "execution_count": 47
        }
      ]
    },
    {
      "cell_type": "code",
      "source": [
        "# list fuctions\n",
        "# 1. append -> adds one value at the end\n",
        "# 2. extend -> adds multiple values at the end\n",
        "# 3. insert -> adds values at specific index\n",
        "a =[]\n",
        "a.append(100)\n",
        "print(a)\n",
        "a.extend([[200, 300], 400])\n",
        "print(a)\n",
        "a.insert(0, [000, 10, 20, 30])\n",
        "print(a)"
      ],
      "metadata": {
        "colab": {
          "base_uri": "https://localhost:8080/"
        },
        "id": "evWHVlT0Se3H",
        "outputId": "08f31dbb-e971-49ab-ed18-a9b79c5977db"
      },
      "execution_count": null,
      "outputs": [
        {
          "output_type": "stream",
          "name": "stdout",
          "text": [
            "[100]\n",
            "[100, [200, 300], 400]\n",
            "[[0, 10, 20, 30], 100, [200, 300], 400]\n"
          ]
        }
      ]
    },
    {
      "cell_type": "code",
      "source": [
        "a = [1,2,3,4,5,6,7,8,9]\n",
        "list(enumerate(a))"
      ],
      "metadata": {
        "colab": {
          "base_uri": "https://localhost:8080/"
        },
        "id": "XVV0iJU1S6Rv",
        "outputId": "0284b2f7-578c-4cbf-8e39-c9bda4e8a4d4"
      },
      "execution_count": 2,
      "outputs": [
        {
          "output_type": "execute_result",
          "data": {
            "text/plain": [
              "[(0, 1), (1, 2), (2, 3), (3, 4), (4, 5), (5, 6), (6, 7), (7, 8), (8, 9)]"
            ]
          },
          "metadata": {},
          "execution_count": 2
        }
      ]
    },
    {
      "cell_type": "code",
      "source": [
        "a=[1,2,3,4,5,6]\n",
        "list(enumerate(a))"
      ],
      "metadata": {
        "colab": {
          "base_uri": "https://localhost:8080/"
        },
        "id": "to-kZ7apa6Up",
        "outputId": "4145da8c-ec7a-4c99-b832-07b10399c863"
      },
      "execution_count": 1,
      "outputs": [
        {
          "output_type": "execute_result",
          "data": {
            "text/plain": [
              "[(0, 1), (1, 2), (2, 3), (3, 4), (4, 5), (5, 6)]"
            ]
          },
          "metadata": {},
          "execution_count": 1
        }
      ]
    },
    {
      "cell_type": "code",
      "source": [
        "a\n",
        "a.clear()\n",
        "a"
      ],
      "metadata": {
        "id": "vejPHD-4V6Lv",
        "colab": {
          "base_uri": "https://localhost:8080/"
        },
        "outputId": "f56be545-c69a-4d11-b676-003cf3c4bd09"
      },
      "execution_count": null,
      "outputs": [
        {
          "output_type": "execute_result",
          "data": {
            "text/plain": [
              "[]"
            ]
          },
          "metadata": {},
          "execution_count": 71
        }
      ]
    },
    {
      "cell_type": "code",
      "source": [
        "a = [1, 2,3,]\n",
        "a\n",
        "a.remove(3)\n",
        "a\n",
        "a.extend([3,4,5,6,7,8])\n",
        "a.pop(2)\n",
        "a[2] = 9\n",
        "a.sort()\n",
        "a"
      ],
      "metadata": {
        "colab": {
          "base_uri": "https://localhost:8080/"
        },
        "id": "hLPRutFkZM2F",
        "outputId": "8fc49d61-e1e8-4290-dfc2-e3719b5f84af"
      },
      "execution_count": 3,
      "outputs": [
        {
          "output_type": "execute_result",
          "data": {
            "text/plain": [
              "[1, 2, 5, 6, 7, 8, 9]"
            ]
          },
          "metadata": {},
          "execution_count": 3
        }
      ]
    },
    {
      "cell_type": "code",
      "source": [
        "# difference between sort and sorted"
      ],
      "metadata": {
        "id": "v6ixIJrSZV9i"
      },
      "execution_count": null,
      "outputs": []
    },
    {
      "cell_type": "code",
      "source": [],
      "metadata": {
        "id": "wohfWeMvZvPH"
      },
      "execution_count": null,
      "outputs": []
    }
  ]
}