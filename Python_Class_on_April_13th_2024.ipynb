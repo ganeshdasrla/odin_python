{
  "nbformat": 4,
  "nbformat_minor": 0,
  "metadata": {
    "colab": {
      "provenance": [],
      "authorship_tag": "ABX9TyPbBBHErbKHIEcis0sLxXRG",
      "include_colab_link": true
    },
    "kernelspec": {
      "name": "python3",
      "display_name": "Python 3"
    },
    "language_info": {
      "name": "python"
    }
  },
  "cells": [
    {
      "cell_type": "markdown",
      "metadata": {
        "id": "view-in-github",
        "colab_type": "text"
      },
      "source": [
        "<a href=\"https://colab.research.google.com/github/ganeshdasrla/odin_python/blob/main/Python_Class_on_April_13th_2024.ipynb\" target=\"_parent\"><img src=\"https://colab.research.google.com/assets/colab-badge.svg\" alt=\"Open In Colab\"/></a>"
      ]
    },
    {
      "cell_type": "code",
      "execution_count": 1,
      "metadata": {
        "id": "59-kRMxntLuL"
      },
      "outputs": [],
      "source": [
        "a = [1,2,3,4, \"welcome\", \"hello\", 45.87, True]"
      ]
    },
    {
      "cell_type": "code",
      "source": [
        "len(a)"
      ],
      "metadata": {
        "colab": {
          "base_uri": "https://localhost:8080/"
        },
        "id": "jAtXZkqJvfTp",
        "outputId": "d59b8248-78d6-41be-f59f-104f98cf2a52"
      },
      "execution_count": 3,
      "outputs": [
        {
          "output_type": "execute_result",
          "data": {
            "text/plain": [
              "8"
            ]
          },
          "metadata": {},
          "execution_count": 3
        }
      ]
    },
    {
      "cell_type": "code",
      "source": [
        "b = []\n",
        "for i in range(1, 21):\n",
        "  b.append(i)\n",
        "print(b)"
      ],
      "metadata": {
        "colab": {
          "base_uri": "https://localhost:8080/"
        },
        "id": "symp7mr6vggi",
        "outputId": "9aea8226-6cea-477e-97d3-b341bd9c235a"
      },
      "execution_count": 5,
      "outputs": [
        {
          "output_type": "stream",
          "name": "stdout",
          "text": [
            "[1, 2, 3, 4, 5, 6, 7, 8, 9, 10, 11, 12, 13, 14, 15, 16, 17, 18, 19, 20]\n"
          ]
        }
      ]
    },
    {
      "cell_type": "code",
      "source": [
        "c, i = [], 1\n",
        "while i < 21:\n",
        "  c.append(i)\n",
        "  i += 1\n",
        "print(c)"
      ],
      "metadata": {
        "colab": {
          "base_uri": "https://localhost:8080/"
        },
        "id": "B-61hGsvv0KB",
        "outputId": "f93ac643-4105-4115-ab21-d2e0445188a0"
      },
      "execution_count": 8,
      "outputs": [
        {
          "output_type": "stream",
          "name": "stdout",
          "text": [
            "[1, 2, 3, 4, 5, 6, 7, 8, 9, 10, 11, 12, 13, 14, 15, 16, 17, 18, 19, 20]\n"
          ]
        }
      ]
    },
    {
      "cell_type": "markdown",
      "source": [
        "[expression for item in iterable if condition]\n",
        "*   expression: The expression to evaluate for each item.\n",
        "*   item: The variable representing each item in the iterable.\n",
        "*   iterable: The iterable (e.g., list, tuple, range) to iterate over.\n",
        "*   if condition (optional): A condition that filters the items. Only items for which the condition evaluates to True will be included in the new list."
      ],
      "metadata": {
        "id": "X7--qehK3IlS"
      }
    },
    {
      "cell_type": "code",
      "source": [
        "# list comprehensions\n",
        "d = [i for i in range(1, 21)]\n",
        "print(d)"
      ],
      "metadata": {
        "colab": {
          "base_uri": "https://localhost:8080/"
        },
        "id": "XzbdiLC0yAUR",
        "outputId": "26229fc5-316e-439d-dcf3-adc2c306c6f1"
      },
      "execution_count": 9,
      "outputs": [
        {
          "output_type": "stream",
          "name": "stdout",
          "text": [
            "[1, 2, 3, 4, 5, 6, 7, 8, 9, 10, 11, 12, 13, 14, 15, 16, 17, 18, 19, 20]\n"
          ]
        }
      ]
    },
    {
      "cell_type": "code",
      "source": [
        "e = [i+1 for i in [1,4,6]]\n",
        "print(e)"
      ],
      "metadata": {
        "colab": {
          "base_uri": "https://localhost:8080/"
        },
        "id": "Mjcj-LmYypjp",
        "outputId": "fae881ec-7bb5-4faa-b4e4-0392383c29a6"
      },
      "execution_count": 12,
      "outputs": [
        {
          "output_type": "stream",
          "name": "stdout",
          "text": [
            "[2, 5, 7]\n"
          ]
        }
      ]
    },
    {
      "cell_type": "code",
      "source": [
        "# list comprehensions\n",
        "squares = [num ** 2 for num in range(10)]\n",
        "print(squares)"
      ],
      "metadata": {
        "colab": {
          "base_uri": "https://localhost:8080/"
        },
        "id": "Fdr-c-K7yQO3",
        "outputId": "efe5b761-54f3-4c08-e35a-d58c36f0b2ad"
      },
      "execution_count": 11,
      "outputs": [
        {
          "output_type": "stream",
          "name": "stdout",
          "text": [
            "[0, 1, 4, 9, 16, 25, 36, 49, 64, 81]\n"
          ]
        }
      ]
    },
    {
      "cell_type": "markdown",
      "source": [
        "Filtering even numbers from a list:"
      ],
      "metadata": {
        "id": "b0Evxp_QzQZj"
      }
    },
    {
      "cell_type": "code",
      "source": [
        "numbers = [1, 2, 3, 4, 5, 6, 7, 8, 9, 10]\n",
        "even_numbers = [x for x in numbers if x % 2 == 0]\n",
        "print(even_numbers)"
      ],
      "metadata": {
        "colab": {
          "base_uri": "https://localhost:8080/"
        },
        "id": "cydLuHQGzUY-",
        "outputId": "ae0dc124-32d4-4488-df12-9d2aec3b2f24"
      },
      "execution_count": 13,
      "outputs": [
        {
          "output_type": "stream",
          "name": "stdout",
          "text": [
            "[2, 4, 6, 8, 10]\n"
          ]
        }
      ]
    },
    {
      "cell_type": "code",
      "source": [
        "even_numbers = [i for i in range(1,10) if i % 2 == 0]\n",
        "print(even_numbers)"
      ],
      "metadata": {
        "colab": {
          "base_uri": "https://localhost:8080/"
        },
        "id": "Ug6m6-YAzdS2",
        "outputId": "53d68d71-3419-4e2b-ce4c-46224fa419a9"
      },
      "execution_count": 14,
      "outputs": [
        {
          "output_type": "stream",
          "name": "stdout",
          "text": [
            "[2, 4, 6, 8]\n"
          ]
        }
      ]
    },
    {
      "cell_type": "markdown",
      "source": [
        "Creating a list of tuples containing numbers and their squares:"
      ],
      "metadata": {
        "id": "wxqtCkDLzzBv"
      }
    },
    {
      "cell_type": "code",
      "source": [
        "pairs = [(x, x**2) for x in range(1, 6)]\n",
        "print(pairs)"
      ],
      "metadata": {
        "colab": {
          "base_uri": "https://localhost:8080/"
        },
        "id": "DqKt3L1Sz2nh",
        "outputId": "1cab2c63-88e3-4d5d-9421-6233e6252f6f"
      },
      "execution_count": 15,
      "outputs": [
        {
          "output_type": "stream",
          "name": "stdout",
          "text": [
            "[(1, 1), (2, 4), (3, 9), (4, 16), (5, 25)]\n"
          ]
        }
      ]
    },
    {
      "cell_type": "markdown",
      "source": [
        "[expression for item1 in iterable1 for item2 in iterable2]"
      ],
      "metadata": {
        "id": "OEjsdYp-0NkH"
      }
    },
    {
      "cell_type": "code",
      "source": [
        "a = [[j for i in range(1,3)] for j in range(1,4)]\n",
        "print(a)\n",
        "\n",
        "pairs = [(x, y) for x in range(1,3) for y in range(4,6)]\n",
        "print(pairs)"
      ],
      "metadata": {
        "colab": {
          "base_uri": "https://localhost:8080/"
        },
        "id": "JurAGjf80Oie",
        "outputId": "6fae4e7e-db55-40c6-e310-d893fe134eac"
      },
      "execution_count": 23,
      "outputs": [
        {
          "output_type": "stream",
          "name": "stdout",
          "text": [
            "[[1, 1], [2, 2], [3, 3]]\n",
            "[(1, 4), (1, 5), (2, 4), (2, 5)]\n"
          ]
        }
      ]
    },
    {
      "cell_type": "markdown",
      "source": [
        "**Tuples:**\n",
        "Tuples in Python are ordered collections of elements that are immutable, meaning their values cannot be changed after creation. Here are some key points about tuples:"
      ],
      "metadata": {
        "id": "o6OYP0kj4RAw"
      }
    },
    {
      "cell_type": "code",
      "source": [
        "my_tuple = (1, 2, 'a', 'b', True)\n",
        "print(my_tuple)\n",
        "\n",
        "a = 1,2,3,4,5,6,True\n",
        "print(a)\n",
        "type(a)"
      ],
      "metadata": {
        "colab": {
          "base_uri": "https://localhost:8080/"
        },
        "id": "FfJ4sn8A4iDo",
        "outputId": "ee7d25f9-1d13-4a3d-d4ad-ed95f70c3977"
      },
      "execution_count": 27,
      "outputs": [
        {
          "output_type": "stream",
          "name": "stdout",
          "text": [
            "(1, 2, 'a', 'b', True)\n",
            "(1, 2, 3, 4, 5, 6, True)\n"
          ]
        },
        {
          "output_type": "execute_result",
          "data": {
            "text/plain": [
              "tuple"
            ]
          },
          "metadata": {},
          "execution_count": 27
        }
      ]
    },
    {
      "cell_type": "code",
      "source": [
        "a=(4)\n",
        "print(a)\n",
        "print(type(a))\n",
        "\n",
        "aa = [4]\n",
        "print(aa)\n",
        "print(type(aa))\n",
        "\n",
        "b=(\"hello\")\n",
        "print(b)\n",
        "print(type(b))"
      ],
      "metadata": {
        "colab": {
          "base_uri": "https://localhost:8080/"
        },
        "id": "5U1-Idng46qz",
        "outputId": "a9bd23af-327a-456c-e7d3-45f06ba8c0c8"
      },
      "execution_count": 31,
      "outputs": [
        {
          "output_type": "stream",
          "name": "stdout",
          "text": [
            "4\n",
            "<class 'int'>\n",
            "[4]\n",
            "<class 'list'>\n",
            "hello\n",
            "<class 'str'>\n"
          ]
        }
      ]
    },
    {
      "cell_type": "code",
      "source": [
        "a=(1,4,5,\"welcome\",\"hello\",45.87,True,4,5,4)\n",
        "print(len(a))\n",
        "print(a.count(4))\n",
        "print(a.index(5))\n",
        "print(a[4:])\n",
        "print(a[:-4])"
      ],
      "metadata": {
        "colab": {
          "base_uri": "https://localhost:8080/"
        },
        "id": "QHcYBF9o6LX6",
        "outputId": "702d192e-05e0-498a-f3b9-b1be1ecc3f97"
      },
      "execution_count": 37,
      "outputs": [
        {
          "output_type": "stream",
          "name": "stdout",
          "text": [
            "10\n",
            "3\n",
            "2\n",
            "('hello', 45.87, True, 4, 5, 4)\n",
            "(1, 4, 5, 'welcome', 'hello', 45.87)\n"
          ]
        }
      ]
    },
    {
      "cell_type": "code",
      "source": [
        "a=(\"ayush\", \"jen\", \"divya\")\n",
        "# a[1]=\"jenny\" can't modifiy\n",
        "\n",
        "list_a = list(a)\n",
        "list_a[1]=\"jeeny\"\n",
        "print(list_a)\n",
        "\n",
        "a = tuple(list_a)\n",
        "print(a)\n",
        "\n",
        "for name in list_a:\n",
        "  print(name)"
      ],
      "metadata": {
        "colab": {
          "base_uri": "https://localhost:8080/"
        },
        "id": "fxTafXea64Um",
        "outputId": "e9a89492-560d-4056-c3bb-ad4e57230bab"
      },
      "execution_count": 42,
      "outputs": [
        {
          "output_type": "stream",
          "name": "stdout",
          "text": [
            "['ayush', 'jeeny', 'divya']\n",
            "('ayush', 'jeeny', 'divya')\n",
            "ayush\n",
            "jeeny\n",
            "divya\n"
          ]
        }
      ]
    },
    {
      "cell_type": "markdown",
      "source": [
        "**Unpacking in Python:**\n",
        "unpacking in Python allows you to assign the elements of a tuple to multiple variables in a single line. Here's how it works:"
      ],
      "metadata": {
        "id": "lScsxlJA8lCX"
      }
    },
    {
      "cell_type": "code",
      "source": [
        "my_tuple = (1, 2, 3)\n",
        "a, b, c = my_tuple\n",
        "print(a)  # Output: 1\n",
        "print(b)  # Output: 2\n",
        "print(c)  # Output: 3"
      ],
      "metadata": {
        "colab": {
          "base_uri": "https://localhost:8080/"
        },
        "id": "i1-QSONI8vug",
        "outputId": "7488be7c-634f-48e2-d0d1-d86b054ac219"
      },
      "execution_count": 44,
      "outputs": [
        {
          "output_type": "stream",
          "name": "stdout",
          "text": [
            "1\n",
            "2\n",
            "3\n",
            "3\n",
            "1\n"
          ]
        }
      ]
    },
    {
      "cell_type": "code",
      "source": [
        "my_tuple = [1, 2, 3]\n",
        "a, b, c = my_tuple\n",
        "print(a)  # Output: 1\n",
        "print(b)  # Output: 2\n",
        "print(c)  # Output: 3"
      ],
      "metadata": {
        "colab": {
          "base_uri": "https://localhost:8080/"
        },
        "id": "z08vQ8JQ9HJ3",
        "outputId": "a522767d-a77d-4259-93b9-9e907dc1a8b6"
      },
      "execution_count": 46,
      "outputs": [
        {
          "output_type": "stream",
          "name": "stdout",
          "text": [
            "1\n",
            "2\n",
            "3\n"
          ]
        }
      ]
    },
    {
      "cell_type": "code",
      "source": [
        "quotient, remainder = divmod(10, 3)\n",
        "print(quotient)   # Output: 3\n",
        "print(remainder)  # Output: 1"
      ],
      "metadata": {
        "colab": {
          "base_uri": "https://localhost:8080/"
        },
        "id": "zyLe7vAp86dS",
        "outputId": "6c05eace-3db2-4a4a-9080-5079d24dfd45"
      },
      "execution_count": 45,
      "outputs": [
        {
          "output_type": "stream",
          "name": "stdout",
          "text": [
            "3\n",
            "1\n"
          ]
        }
      ]
    },
    {
      "cell_type": "code",
      "source": [
        "string = \"apple,banana,orange,grape\"\n",
        "result = string.split(\",\")\n",
        "print(result)\n",
        "\n",
        "result1 = string.split(\",\", maxsplit=2)\n",
        "print(result1)"
      ],
      "metadata": {
        "colab": {
          "base_uri": "https://localhost:8080/"
        },
        "id": "-tF-Whu--92M",
        "outputId": "1508e433-8a1f-4272-b22f-c23793b14150"
      },
      "execution_count": 48,
      "outputs": [
        {
          "output_type": "stream",
          "name": "stdout",
          "text": [
            "['apple', 'banana', 'orange', 'grape']\n",
            "['apple', 'banana', 'orange,grape']\n"
          ]
        }
      ]
    },
    {
      "cell_type": "markdown",
      "source": [
        "**Dictionaries** in Python are unordered collections of key-value pairs. They are extremely flexible and powerful data structures, commonly used for mapping unique keys to corresponding values. Here's what you need to know about dictionaries:\n",
        "\n",
        "my_dict = {'key1': 'value1', 'key2': 'value2', 'key3': 'value3'}\n"
      ],
      "metadata": {
        "id": "TK4XJGLdCGrW"
      }
    },
    {
      "cell_type": "code",
      "source": [
        "my_dict={\"aysuh\": 45, \"raj\": 57, \"komal\": 78}\n",
        "print(my_dict)\n",
        "\n",
        "for key in my_dict:\n",
        "  print(key, my_dict[key])"
      ],
      "metadata": {
        "colab": {
          "base_uri": "https://localhost:8080/"
        },
        "id": "3TvPyshECJnd",
        "outputId": "a799af0d-efd7-4a87-adec-761160fcdfe7"
      },
      "execution_count": 50,
      "outputs": [
        {
          "output_type": "stream",
          "name": "stdout",
          "text": [
            "{'aysuh': 45, 'raj': 57, 'komal': 78}\n",
            "aysuh 45\n",
            "raj 57\n",
            "komal 78\n"
          ]
        }
      ]
    },
    {
      "cell_type": "code",
      "source": [
        "my_dict = {'key1': 'value1', 'key2': 'value2', 'key3': 'value3'}\n",
        "print(my_dict['key1'])  # Output: value1\n",
        "\n",
        "my_dict['new_key'] = 'new_value'  # Adding a new key-value pair\n",
        "my_dict['key2'] = 'updated_value'  # Updating an existing value\n",
        "\n",
        "del my_dict['key3']  # Remove a specific key-value pair\n",
        "value = my_dict.pop('key2')  # Remove and return the value associated with a key\n",
        "\n",
        "for key in my_dict:\n",
        "  print(key, my_dict[key])  # Print each key and its corresponding value\n",
        "\n",
        "keys = my_dict.keys()  # Get a list of keys\n",
        "values = my_dict.values()  # Get a list of values\n",
        "items = my_dict.items()  # Get a list of key-value pairs (tuples)\n",
        "\n",
        "print(\"keys: \", keys)\n",
        "print(\"values: \", values)\n",
        "print(\"items: \", items)"
      ],
      "metadata": {
        "colab": {
          "base_uri": "https://localhost:8080/"
        },
        "id": "slpQHOM6DFcE",
        "outputId": "49a2124f-8119-4e24-a681-7cec27c52840"
      },
      "execution_count": 60,
      "outputs": [
        {
          "output_type": "stream",
          "name": "stdout",
          "text": [
            "value1\n",
            "key1 value1\n",
            "new_key new_value\n",
            "keys:  dict_keys(['key1', 'new_key'])\n",
            "values:  dict_values(['value1', 'new_value'])\n",
            "items:  dict_items([('key1', 'value1'), ('new_key', 'new_value')])\n"
          ]
        }
      ]
    },
    {
      "cell_type": "code",
      "source": [
        "names_dict = {\"aysuh\": 45, \"mithili\": 78, \"venkatesh\":85, \"rahul\":56}\n",
        "names_dict[\"harini\"] = 83\n",
        "names_dict[\"venkatesh\"] = 60\n",
        "\n",
        "print(names_dict)"
      ],
      "metadata": {
        "colab": {
          "base_uri": "https://localhost:8080/"
        },
        "id": "sfy-AfEHDPK-",
        "outputId": "726d75c1-dfc0-4b52-d9c3-c89b753867d1"
      },
      "execution_count": 65,
      "outputs": [
        {
          "output_type": "stream",
          "name": "stdout",
          "text": [
            "{'aysuh': 45, 'mithili': 78, 'venkatesh': 60, 'rahul': 56, 'harini': 83}\n"
          ]
        }
      ]
    },
    {
      "cell_type": "code",
      "source": [
        "my_dict = {'a': 1, 'b': 2, 'c': 3}\n",
        "tuple_from_dict = tuple(my_dict.items())\n",
        "print(tuple_from_dict)\n",
        "list_from_dict = list(my_dict.items())\n",
        "print(list_from_dict)"
      ],
      "metadata": {
        "colab": {
          "base_uri": "https://localhost:8080/"
        },
        "id": "EteMsK93FFx8",
        "outputId": "cc2d2698-ecae-4147-a0a4-945ee7677b40"
      },
      "execution_count": 77,
      "outputs": [
        {
          "output_type": "stream",
          "name": "stdout",
          "text": [
            "(('a', 1), ('b', 2), ('c', 3))\n",
            "[('a', 1), ('b', 2), ('c', 3)]\n"
          ]
        }
      ]
    },
    {
      "cell_type": "code",
      "source": [
        "student_dict = {\"ayush\": {\"english\": 39, \"maths\": 67, \"science\": 76, \"social\": 67},\n",
        "                \"raj\": {\"english\": 39, \"maths\": 67, \"science\": 76, \"social\": 67},\n",
        "                \"ganesh\": {\"english\": 39, \"maths\": 67, \"science\": 76, \"social\": 67},\n",
        "                \"komal\": {\"english\": 39, \"maths\": 67, \"science\": 76, \"social\": 67},\n",
        "                \"kousik\": {\"english\": 39, \"maths\": 67, \"science\": 76, \"social\": 67}}\n",
        "#print(student_dict)\n",
        "print(student_dict[\"ganesh\"])\n",
        "student_dict[\"ganesh\"][\"maths\"] = 78\n",
        "print(student_dict[\"ganesh\"][\"maths\"])\n",
        "print(len(student_dict))\n",
        "print(len(student_dict[\"ganesh\"]))"
      ],
      "metadata": {
        "colab": {
          "base_uri": "https://localhost:8080/"
        },
        "id": "6C3ClDuVFyE5",
        "outputId": "f23009bb-af03-4459-e1ea-64759a00ef2f"
      },
      "execution_count": 76,
      "outputs": [
        {
          "output_type": "stream",
          "name": "stdout",
          "text": [
            "{'english': 39, 'maths': 67, 'science': 76, 'social': 67}\n",
            "78\n",
            "5\n",
            "4\n"
          ]
        }
      ]
    },
    {
      "cell_type": "code",
      "source": [
        "a=[]\n",
        "type(a)"
      ],
      "metadata": {
        "colab": {
          "base_uri": "https://localhost:8080/"
        },
        "id": "ChCCqm4AIIXp",
        "outputId": "b698a522-4590-494c-f2fe-3da658855a5e"
      },
      "execution_count": 78,
      "outputs": [
        {
          "output_type": "execute_result",
          "data": {
            "text/plain": [
              "list"
            ]
          },
          "metadata": {},
          "execution_count": 78
        }
      ]
    },
    {
      "cell_type": "code",
      "source": [
        "a=()\n",
        "type(a)"
      ],
      "metadata": {
        "colab": {
          "base_uri": "https://localhost:8080/"
        },
        "id": "i3FhDKPzKJLb",
        "outputId": "11293e96-9c01-4648-e44f-2de5e816e824"
      },
      "execution_count": 79,
      "outputs": [
        {
          "output_type": "execute_result",
          "data": {
            "text/plain": [
              "tuple"
            ]
          },
          "metadata": {},
          "execution_count": 79
        }
      ]
    },
    {
      "cell_type": "code",
      "source": [
        "a={}\n",
        "type(a)"
      ],
      "metadata": {
        "colab": {
          "base_uri": "https://localhost:8080/"
        },
        "id": "bS44l8zQKLTv",
        "outputId": "bc36ca1c-d653-4f60-a338-3833757588cf"
      },
      "execution_count": 80,
      "outputs": [
        {
          "output_type": "execute_result",
          "data": {
            "text/plain": [
              "dict"
            ]
          },
          "metadata": {},
          "execution_count": 80
        }
      ]
    },
    {
      "cell_type": "markdown",
      "source": [
        "In Python, a **set** is an unordered collection of unique elements. Sets are mutable, meaning you can add or remove elements from them.\n",
        "\n",
        "**Uniqueness:** Sets only contain unique elements. If you try to add a duplicate element to a set, it will be ignored.\n",
        "\n",
        "**Mutability:** Sets are mutable, meaning you can add or remove elements from them."
      ],
      "metadata": {
        "id": "-HF1Caf0KfJg"
      }
    },
    {
      "cell_type": "code",
      "source": [
        "a=set()\n",
        "type(a)\n",
        "\n",
        "my_set = {1, 2, 3, 3, 4, 5}  # Duplicate 3 is ignored\n",
        "print(my_set)  # Output: {1, 2, 3, 4, 5}\n",
        "\n",
        "my_set.add(6)  # Add a new element\n",
        "my_set.remove(2)  # Remove an element\n"
      ],
      "metadata": {
        "colab": {
          "base_uri": "https://localhost:8080/"
        },
        "id": "etBB2dFiKRAm",
        "outputId": "23ad52a2-18a7-49e9-e8a7-98e6521a5c13"
      },
      "execution_count": 83,
      "outputs": [
        {
          "output_type": "stream",
          "name": "stdout",
          "text": [
            "{1, 2, 3, 4, 5}\n"
          ]
        }
      ]
    },
    {
      "cell_type": "code",
      "source": [
        "set1 = {1, 2, 3}\n",
        "set2 = {3, 4, 5}\n",
        "union_set = set1 | set2  # Union of sets\n",
        "intersection_set = set1 & set2  # Intersection of sets\n",
        "difference_set = set1 - set2  # Set difference\n",
        "symmetric_difference_set = set1 ^ set2  # Symmetric difference\n",
        "print(union_set)\n",
        "print(intersection_set)\n",
        "print(difference_set)\n",
        "print(symmetric_difference_set)"
      ],
      "metadata": {
        "colab": {
          "base_uri": "https://localhost:8080/"
        },
        "id": "TquHVcgILM1G",
        "outputId": "6f8e3900-826b-4afd-b627-0f7d4ec9a2a2"
      },
      "execution_count": 85,
      "outputs": [
        {
          "output_type": "stream",
          "name": "stdout",
          "text": [
            "{1, 2, 3, 4, 5}\n",
            "{3}\n",
            "{1, 2}\n",
            "{1, 2, 4, 5}\n"
          ]
        }
      ]
    },
    {
      "cell_type": "code",
      "source": [
        "set1 = {1,2,3,4,5,6,7,2,4,5,7}\n",
        "set1.add(\"2.908\")\n",
        "set1"
      ],
      "metadata": {
        "colab": {
          "base_uri": "https://localhost:8080/"
        },
        "id": "YDnJIBJ4LyDI",
        "outputId": "db46b446-f05a-470d-ddf8-05d828565574"
      },
      "execution_count": 100,
      "outputs": [
        {
          "output_type": "execute_result",
          "data": {
            "text/plain": [
              "{1, 2, '2.908', 3, 4, 5, 6, 7}"
            ]
          },
          "metadata": {},
          "execution_count": 100
        }
      ]
    },
    {
      "cell_type": "code",
      "source": [
        "set1.update((100,102,108, 49,450,4))\n",
        "set1"
      ],
      "metadata": {
        "colab": {
          "base_uri": "https://localhost:8080/"
        },
        "id": "XJincWK2L_l6",
        "outputId": "2d496928-16c3-4586-ba3d-729f912ec7aa"
      },
      "execution_count": 101,
      "outputs": [
        {
          "output_type": "execute_result",
          "data": {
            "text/plain": [
              "{1, 100, 102, 108, 2, '2.908', 3, 4, 450, 49, 5, 6, 7}"
            ]
          },
          "metadata": {},
          "execution_count": 101
        }
      ]
    },
    {
      "cell_type": "code",
      "source": [
        "#set1.remove(\"2.908\") #no vlue gvies error\n",
        "set1.discard(\"python\")\n",
        "set1"
      ],
      "metadata": {
        "colab": {
          "base_uri": "https://localhost:8080/"
        },
        "id": "VtgluQ62M861",
        "outputId": "32377e99-f8ab-4093-a594-bc96ca298427"
      },
      "execution_count": 102,
      "outputs": [
        {
          "output_type": "execute_result",
          "data": {
            "text/plain": [
              "{1, 100, 102, 108, 2, '2.908', 3, 4, 450, 49, 5, 6, 7}"
            ]
          },
          "metadata": {},
          "execution_count": 102
        }
      ]
    },
    {
      "cell_type": "code",
      "source": [
        "set1={1,2,3}\n",
        "set2={3,4,5}\n",
        "set1.union(set2)\n",
        "\n",
        "set1 | set2"
      ],
      "metadata": {
        "colab": {
          "base_uri": "https://localhost:8080/"
        },
        "id": "UYM6-iZ8OOWy",
        "outputId": "8341c354-0594-4fb8-99f4-b7c0bc36902c"
      },
      "execution_count": 104,
      "outputs": [
        {
          "output_type": "execute_result",
          "data": {
            "text/plain": [
              "{1, 2, 3, 4, 5}"
            ]
          },
          "metadata": {},
          "execution_count": 104
        }
      ]
    },
    {
      "cell_type": "code",
      "source": [
        "set1.intersection(set2)\n",
        "set1&set2"
      ],
      "metadata": {
        "colab": {
          "base_uri": "https://localhost:8080/"
        },
        "id": "qs-MBtJuOdTW",
        "outputId": "f8647ceb-faa7-4260-834d-b6ddf76d8529"
      },
      "execution_count": 108,
      "outputs": [
        {
          "output_type": "execute_result",
          "data": {
            "text/plain": [
              "{3}"
            ]
          },
          "metadata": {},
          "execution_count": 108
        }
      ]
    },
    {
      "cell_type": "code",
      "source": [
        "set1.difference(set2) # set1 - set2\n",
        "set2.difference(set1) # set2 - set1"
      ],
      "metadata": {
        "colab": {
          "base_uri": "https://localhost:8080/"
        },
        "id": "QsRyOc19OipX",
        "outputId": "2c46553a-30cc-4394-d20b-339ee2f91e16"
      },
      "execution_count": 112,
      "outputs": [
        {
          "output_type": "execute_result",
          "data": {
            "text/plain": [
              "{4, 5}"
            ]
          },
          "metadata": {},
          "execution_count": 112
        }
      ]
    },
    {
      "cell_type": "code",
      "source": [
        "set1.symmetric_difference(set2) # set1 ^ set2\n",
        "set2.symmetric_difference(set1) # set1 ^ set2"
      ],
      "metadata": {
        "colab": {
          "base_uri": "https://localhost:8080/"
        },
        "id": "VXudrlkRO48D",
        "outputId": "d67c4f1f-decd-4d5e-8f04-effcee01a2c6"
      },
      "execution_count": 114,
      "outputs": [
        {
          "output_type": "execute_result",
          "data": {
            "text/plain": [
              "{1, 2, 4, 5}"
            ]
          },
          "metadata": {},
          "execution_count": 114
        }
      ]
    }
  ]
}