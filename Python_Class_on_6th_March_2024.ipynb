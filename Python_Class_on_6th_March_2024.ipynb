{
  "nbformat": 4,
  "nbformat_minor": 0,
  "metadata": {
    "colab": {
      "provenance": [],
      "authorship_tag": "ABX9TyON7RtERZRXCgwcR8LmrjM5",
      "include_colab_link": true
    },
    "kernelspec": {
      "name": "python3",
      "display_name": "Python 3"
    },
    "language_info": {
      "name": "python"
    }
  },
  "cells": [
    {
      "cell_type": "markdown",
      "metadata": {
        "id": "view-in-github",
        "colab_type": "text"
      },
      "source": [
        "<a href=\"https://colab.research.google.com/github/ganeshdasrla/odin_python/blob/main/Python_Class_on_6th_March_2024.ipynb\" target=\"_parent\"><img src=\"https://colab.research.google.com/assets/colab-badge.svg\" alt=\"Open In Colab\"/></a>"
      ]
    },
    {
      "cell_type": "code",
      "execution_count": null,
      "metadata": {
        "colab": {
          "base_uri": "https://localhost:8080/"
        },
        "id": "e8nHRPsPtV78",
        "outputId": "49c815c0-b9c7-4d07-86af-f190f631489b"
      },
      "outputs": [
        {
          "output_type": "stream",
          "name": "stdout",
          "text": [
            "10\n",
            "9\n",
            "8\n",
            "7\n",
            "6\n",
            "5\n",
            "4\n",
            "3\n",
            "2\n"
          ]
        }
      ],
      "source": [
        "for i in range(10, 1, -1):\n",
        "  print(i)"
      ]
    },
    {
      "cell_type": "code",
      "source": [
        "for i in range(1, 10, 4):\n",
        "  print(i)"
      ],
      "metadata": {
        "colab": {
          "base_uri": "https://localhost:8080/"
        },
        "id": "6ZLlpb2qwkN8",
        "outputId": "6b7b0231-991d-40d7-d3c3-87fe4415f0af"
      },
      "execution_count": null,
      "outputs": [
        {
          "output_type": "stream",
          "name": "stdout",
          "text": [
            "1\n",
            "5\n",
            "9\n"
          ]
        }
      ]
    },
    {
      "cell_type": "code",
      "source": [
        "for i in range(int(10.5)):\n",
        "  print(i)"
      ],
      "metadata": {
        "colab": {
          "base_uri": "https://localhost:8080/"
        },
        "id": "f43R_MwzxO-O",
        "outputId": "738c5826-afa8-4c1f-c9d1-73fe27c82188"
      },
      "execution_count": null,
      "outputs": [
        {
          "output_type": "stream",
          "name": "stdout",
          "text": [
            "0\n",
            "1\n",
            "2\n",
            "3\n",
            "4\n",
            "5\n",
            "6\n",
            "7\n",
            "8\n",
            "9\n"
          ]
        }
      ]
    },
    {
      "cell_type": "code",
      "source": [
        "for i in range(1,4):\n",
        "  print(\"outer loop\", i)\n",
        "  for j in range(10, 14):\n",
        "    print(\"inner loop\", j)"
      ],
      "metadata": {
        "colab": {
          "base_uri": "https://localhost:8080/"
        },
        "id": "WD6MPRSVx8es",
        "outputId": "adb6d148-965c-442d-8f60-593648b50b95"
      },
      "execution_count": null,
      "outputs": [
        {
          "output_type": "stream",
          "name": "stdout",
          "text": [
            "outer loop 1\n",
            "inner loop 10\n",
            "inner loop 11\n",
            "inner loop 12\n",
            "inner loop 13\n",
            "outer loop 2\n",
            "inner loop 10\n",
            "inner loop 11\n",
            "inner loop 12\n",
            "inner loop 13\n",
            "outer loop 3\n",
            "inner loop 10\n",
            "inner loop 11\n",
            "inner loop 12\n",
            "inner loop 13\n"
          ]
        }
      ]
    },
    {
      "cell_type": "code",
      "source": [
        "for i in range(1, 4):\n",
        "  print(\"outer loop\", i)\n",
        "  for j in range(0,i):\n",
        "    print(\"inner loop\", j)\n",
        "  print()"
      ],
      "metadata": {
        "colab": {
          "base_uri": "https://localhost:8080/"
        },
        "id": "8NZk0sb8yNmd",
        "outputId": "20793ca0-d981-4130-d6cf-04ff786aeaab"
      },
      "execution_count": null,
      "outputs": [
        {
          "output_type": "stream",
          "name": "stdout",
          "text": [
            "outer loop 1\n",
            "inner loop 0\n",
            "\n",
            "outer loop 2\n",
            "inner loop 0\n",
            "inner loop 1\n",
            "\n",
            "outer loop 3\n",
            "inner loop 0\n",
            "inner loop 1\n",
            "inner loop 2\n",
            "\n"
          ]
        }
      ]
    },
    {
      "cell_type": "code",
      "source": [
        "for i in range(5):\n",
        "  print(i, end=\" \")"
      ],
      "metadata": {
        "colab": {
          "base_uri": "https://localhost:8080/"
        },
        "id": "THXlEtv90EIO",
        "outputId": "33ab3f7b-fe6c-4b05-a9f0-6109e0145162"
      },
      "execution_count": null,
      "outputs": [
        {
          "output_type": "stream",
          "name": "stdout",
          "text": [
            "0 1 2 3 4 "
          ]
        }
      ]
    },
    {
      "cell_type": "code",
      "source": [
        "for i in range(5):\n",
        "  print(\"*\", end=\" \")"
      ],
      "metadata": {
        "colab": {
          "base_uri": "https://localhost:8080/"
        },
        "id": "gE-_8DTQ095C",
        "outputId": "3de4e1b4-ee76-4406-caf3-ff61ba36c419"
      },
      "execution_count": null,
      "outputs": [
        {
          "output_type": "stream",
          "name": "stdout",
          "text": [
            "* * * * * "
          ]
        }
      ]
    },
    {
      "cell_type": "code",
      "source": [
        "for i in range(5):\n",
        "  for j in range(3):\n",
        "    print(\"*\", end=\" \")\n",
        "  print()"
      ],
      "metadata": {
        "colab": {
          "base_uri": "https://localhost:8080/"
        },
        "id": "sLtp8lAf1ZLv",
        "outputId": "2b785f01-6151-484c-bf9d-5b83aa0a04e6"
      },
      "execution_count": null,
      "outputs": [
        {
          "output_type": "stream",
          "name": "stdout",
          "text": [
            "* * * \n",
            "* * * \n",
            "* * * \n",
            "* * * \n",
            "* * * \n"
          ]
        }
      ]
    },
    {
      "cell_type": "code",
      "source": [
        "for i in range(5):\n",
        "  for j in range(5):\n",
        "    print(\"*\", end=\" \")\n",
        "  print()"
      ],
      "metadata": {
        "colab": {
          "base_uri": "https://localhost:8080/"
        },
        "id": "HLRIidjx56tx",
        "outputId": "54f644d1-3077-42c8-a7be-eb463896c089"
      },
      "execution_count": null,
      "outputs": [
        {
          "output_type": "stream",
          "name": "stdout",
          "text": [
            "* * * * * \n",
            "* * * * * \n",
            "* * * * * \n",
            "* * * * * \n",
            "* * * * * \n"
          ]
        }
      ]
    },
    {
      "cell_type": "code",
      "source": [
        "for i in range(6):\n",
        "  for j in range(i):\n",
        "    print(\"*\", end=\" \")\n",
        "  print()"
      ],
      "metadata": {
        "colab": {
          "base_uri": "https://localhost:8080/"
        },
        "id": "LbpCDixO5_PO",
        "outputId": "38f93786-44b8-4753-f67e-5780796e5dd6"
      },
      "execution_count": null,
      "outputs": [
        {
          "output_type": "stream",
          "name": "stdout",
          "text": [
            "\n",
            "* \n",
            "* * \n",
            "* * * \n",
            "* * * * \n",
            "* * * * * \n"
          ]
        }
      ]
    },
    {
      "cell_type": "code",
      "source": [
        "for i in range(5):\n",
        "  for j in range(i + 1):\n",
        "    print(\"*\", end=\" \")\n",
        "  print()"
      ],
      "metadata": {
        "colab": {
          "base_uri": "https://localhost:8080/"
        },
        "id": "BgXr0zVU6gfL",
        "outputId": "31b88b16-64d3-4c14-b934-44dd430706ea"
      },
      "execution_count": null,
      "outputs": [
        {
          "output_type": "stream",
          "name": "stdout",
          "text": [
            "* \n",
            "* * \n",
            "* * * \n",
            "* * * * \n",
            "* * * * * \n"
          ]
        }
      ]
    },
    {
      "cell_type": "code",
      "source": [
        "for i in range(6, 1, -1):\n",
        "  for j in range(i-1):\n",
        "    print(\"*\", end=\" \")\n",
        "  print()"
      ],
      "metadata": {
        "colab": {
          "base_uri": "https://localhost:8080/"
        },
        "id": "2x3vXGPA_tdh",
        "outputId": "a44db4dd-f6b6-4470-869f-ae9fe814ff13"
      },
      "execution_count": null,
      "outputs": [
        {
          "output_type": "stream",
          "name": "stdout",
          "text": [
            "* * * * * \n",
            "* * * * \n",
            "* * * \n",
            "* * \n",
            "* \n"
          ]
        }
      ]
    },
    {
      "cell_type": "code",
      "source": [
        "for i in range(6):\n",
        "  for j in range(6 -i):\n",
        "    print(\" \", end=\" \")\n",
        "  for j in range(i):\n",
        "    print(\"*\", end=\" \")\n",
        "  print()"
      ],
      "metadata": {
        "colab": {
          "base_uri": "https://localhost:8080/"
        },
        "id": "ZXi2XZ53EmjM",
        "outputId": "0b8b7840-e432-431c-b87c-56168cc27947"
      },
      "execution_count": null,
      "outputs": [
        {
          "output_type": "stream",
          "name": "stdout",
          "text": [
            "            \n",
            "          * \n",
            "        * * \n",
            "      * * * \n",
            "    * * * * \n",
            "  * * * * * \n"
          ]
        }
      ]
    },
    {
      "cell_type": "code",
      "source": [
        "n = 6\n",
        "for i in range(n):\n",
        "  if i == 0 or i == n - 1:\n",
        "    for j in range(n):\n",
        "      print(\"*\", end=\" \")\n",
        "    print()\n",
        "  else:\n",
        "    for j in range(n):\n",
        "      if j == 0 or j == n - 1:\n",
        "        print(\"*\", end=\" \")\n",
        "      else:\n",
        "        print(\" \", end=\" \")\n",
        "    print()\n",
        "\n",
        "\n"
      ],
      "metadata": {
        "colab": {
          "base_uri": "https://localhost:8080/"
        },
        "id": "gAXOpFbpFlII",
        "outputId": "20a88d06-c924-45c0-ff10-819b2921fd59"
      },
      "execution_count": null,
      "outputs": [
        {
          "output_type": "stream",
          "name": "stdout",
          "text": [
            "* * * * * * \n",
            "*         * \n",
            "*         * \n",
            "*         * \n",
            "*         * \n",
            "* * * * * * \n"
          ]
        }
      ]
    },
    {
      "cell_type": "code",
      "source": [
        "n = 6\n",
        "\n",
        "for i in range(n):\n",
        "    if i == 0 or i == n - 1:\n",
        "        print(\"* \" * n)\n",
        "    else:\n",
        "        print(\"*\", end=\" \")\n",
        "        print(\" \" * (n + 1), end=\" \")\n",
        "        print(\"*\")"
      ],
      "metadata": {
        "colab": {
          "base_uri": "https://localhost:8080/"
        },
        "id": "e_sqiZsDIMAW",
        "outputId": "10ce9218-d056-48d7-81f4-4b7ac8883186"
      },
      "execution_count": null,
      "outputs": [
        {
          "output_type": "stream",
          "name": "stdout",
          "text": [
            "* * * * * * \n",
            "*         *\n",
            "*         *\n",
            "*         *\n",
            "*         *\n",
            "* * * * * * \n"
          ]
        }
      ]
    },
    {
      "cell_type": "code",
      "source": [
        "str1 = \"welcome to class\"\n",
        "print(str1)\n",
        "print(str1[0])"
      ],
      "metadata": {
        "colab": {
          "base_uri": "https://localhost:8080/"
        },
        "id": "InvpltBaIs9r",
        "outputId": "8abbd387-2b2f-4938-be33-042d5f5a1b8e"
      },
      "execution_count": null,
      "outputs": [
        {
          "output_type": "stream",
          "name": "stdout",
          "text": [
            "welcome to class\n",
            "w\n"
          ]
        }
      ]
    },
    {
      "cell_type": "code",
      "source": [
        "str1[-1]"
      ],
      "metadata": {
        "colab": {
          "base_uri": "https://localhost:8080/",
          "height": 35
        },
        "id": "_r4s5LtjJGu7",
        "outputId": "b231529f-2976-4a24-86bc-8ae09c0f8c8c"
      },
      "execution_count": null,
      "outputs": [
        {
          "output_type": "execute_result",
          "data": {
            "text/plain": [
              "'s'"
            ],
            "application/vnd.google.colaboratory.intrinsic+json": {
              "type": "string"
            }
          },
          "metadata": {},
          "execution_count": 84
        }
      ]
    },
    {
      "cell_type": "code",
      "source": [
        "# slicing - substrings [start:stop:step]\n",
        "print(str1[1:4])\n",
        "print(str1[:4])\n",
        "print(str1[:]) #full string\n",
        "print(str1[4::2])\n",
        "print(str1[2:14])\n",
        "print(str1[2:14:2])"
      ],
      "metadata": {
        "colab": {
          "base_uri": "https://localhost:8080/"
        },
        "id": "KcfNjQ_GJtL8",
        "outputId": "f61d5d25-a634-40d7-dac7-30f81eb9170b"
      },
      "execution_count": null,
      "outputs": [
        {
          "output_type": "stream",
          "name": "stdout",
          "text": [
            "elc\n",
            "welc\n",
            "welcome to class\n",
            "oet ls\n",
            "lcome to cla\n",
            "loet l\n"
          ]
        }
      ]
    },
    {
      "cell_type": "code",
      "source": [
        "print(str1)\n",
        "print(str1[-3:-1])"
      ],
      "metadata": {
        "colab": {
          "base_uri": "https://localhost:8080/"
        },
        "id": "dmLI3U74J4Xk",
        "outputId": "41c6212d-40fa-4cbe-8460-169dde3d9e20"
      },
      "execution_count": null,
      "outputs": [
        {
          "output_type": "stream",
          "name": "stdout",
          "text": [
            "welcome to class\n",
            "ass\n"
          ]
        }
      ]
    },
    {
      "cell_type": "code",
      "source": [
        "a=\"how are you?\"\n",
        "print(len(a))\n",
        "print(a.title())\n",
        "print(a.upper())\n",
        "print(a.lower())"
      ],
      "metadata": {
        "colab": {
          "base_uri": "https://localhost:8080/"
        },
        "id": "vGKHTm_WLe7B",
        "outputId": "ffe52476-42c7-45e8-e5b8-2610b4ade3c1"
      },
      "execution_count": null,
      "outputs": [
        {
          "output_type": "stream",
          "name": "stdout",
          "text": [
            "12\n",
            "How Are You?\n",
            "HOW ARE YOU?\n",
            "how are you?\n"
          ]
        }
      ]
    },
    {
      "cell_type": "code",
      "source": [
        "# replace\n",
        "b = \"this is a python class\"\n",
        "print(b.replace(\"this\", \"here\"))"
      ],
      "metadata": {
        "colab": {
          "base_uri": "https://localhost:8080/"
        },
        "id": "_Amk2Cx2L7p2",
        "outputId": "f1e478e9-c3f3-436b-98c7-f26a06686217"
      },
      "execution_count": null,
      "outputs": [
        {
          "output_type": "stream",
          "name": "stdout",
          "text": [
            "here is a python class\n"
          ]
        }
      ]
    },
    {
      "cell_type": "code",
      "source": [
        "s=\"welcome to class\"\n",
        "print(s)\n",
        "print(s.index(\"o\"))\n",
        "first_index = s.index('l')\n",
        "print(first_index)\n",
        "second_index = s.index('l', first_index + 1)\n",
        "print(second_index)"
      ],
      "metadata": {
        "colab": {
          "base_uri": "https://localhost:8080/"
        },
        "id": "Z2PUEsq7MZze",
        "outputId": "732e6e3c-a181-4600-e0d9-b141b0f99ba4"
      },
      "execution_count": null,
      "outputs": [
        {
          "output_type": "stream",
          "name": "stdout",
          "text": [
            "welcome to class\n",
            "4\n",
            "2\n",
            "12\n"
          ]
        }
      ]
    },
    {
      "cell_type": "code",
      "source": [],
      "metadata": {
        "id": "KxCXDjA2NMs0"
      },
      "execution_count": null,
      "outputs": []
    }
  ]
}